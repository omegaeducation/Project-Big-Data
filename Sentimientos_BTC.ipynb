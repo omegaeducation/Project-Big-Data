{
  "nbformat": 4,
  "nbformat_minor": 0,
  "metadata": {
    "colab": {
      "name": "Sentimientos-BTC.ipynb",
      "provenance": [],
      "collapsed_sections": []
    },
    "kernelspec": {
      "name": "python3",
      "display_name": "Python 3"
    },
    "language_info": {
      "name": "python"
    }
  },
  "cells": [
    {
      "cell_type": "code",
      "metadata": {
        "id": "lnBGLqe7hVTt"
      },
      "source": [
        "# SELECT timestamp, text, retweets FROM tweets\n",
        "# ORDER BY tweets.retweets\n",
        "# LIMIT 1000000\n",
        "# INTO OUTFILE\n",
        "# 'ruta/nombre.csv'\n",
        "# FIELDS TERMINATED BY ';'\n",
        "# OPTIONALLY ENCLOSED BY '\\\"'\n",
        "# LINES TERMINATED BY '\\n';\n",
        "\n",
        "\n",
        "## en windows LINES TERMINATED BY '\\r';\n",
        "## Código SQL para reducir la dimensión de 17 millones a solo el primer millon \n",
        "##con más retweets\n"
      ],
      "execution_count": null,
      "outputs": []
    },
    {
      "cell_type": "code",
      "metadata": {
        "id": "leJlno1QlCfH"
      },
      "source": [
        "import pandas_datareader.data as web\n",
        "import datetime as dt\n",
        "import pandas as pd\n",
        "import numpy as np\n",
        "import matplotlib.pyplot as plt\n",
        "import seaborn as sns\n",
        "import plotly\n",
        "import plotly.graph_objects as go\n",
        "import plotly.express as px\n",
        "import plotly.express as px\n",
        "from plotly.subplots import make_subplots"
      ],
      "execution_count": null,
      "outputs": []
    },
    {
      "cell_type": "code",
      "metadata": {
        "id": "JHE7p0VYlLI8"
      },
      "source": [
        "from google.colab import drive\n",
        "drive.mount('/content/drive')"
      ],
      "execution_count": null,
      "outputs": []
    },
    {
      "cell_type": "code",
      "metadata": {
        "id": "My4ZCi-IlUjO"
      },
      "source": [
        "columns=['timestamp','text']\n",
        "datos=pd.read_excel('drive/MyDrive/Colab Notebooks/p2.xlsx', sheet_name=\"Hoja2\", usecols=columns)\n",
        "datos.info()"
      ],
      "execution_count": null,
      "outputs": []
    },
    {
      "cell_type": "code",
      "metadata": {
        "id": "EcdLO8qKlaGN"
      },
      "source": [
        "#fecha más antigua\n",
        "datos.timestamp.min()"
      ],
      "execution_count": null,
      "outputs": []
    },
    {
      "cell_type": "code",
      "metadata": {
        "id": "V0g092Fdlc4p"
      },
      "source": [
        "#fecha más reciente\n",
        "datos.timestamp.max()"
      ],
      "execution_count": null,
      "outputs": []
    },
    {
      "cell_type": "code",
      "metadata": {
        "id": "TgatZhoYleU6"
      },
      "source": [
        "#eliminar na's\n",
        "datos.dropna(inplace=True)"
      ],
      "execution_count": null,
      "outputs": []
    },
    {
      "cell_type": "code",
      "metadata": {
        "id": "z9BN4ecWlmm4"
      },
      "source": [
        "# Libreria de análisis de sentimientos\n",
        "import nltk\n",
        "nltk.download('vader_lexicon')\n",
        "from nltk.sentiment.vader import SentimentIntensityAnalyzer\n",
        "sid = SentimentIntensityAnalyzer()"
      ],
      "execution_count": null,
      "outputs": []
    },
    {
      "cell_type": "code",
      "metadata": {
        "id": "dOh9xnIIlow5"
      },
      "source": [
        "#Generar variable con el compound score\n",
        "datos[\"Score\"]=datos.text.apply(lambda x: sid.polarity_scores(x)['compound'])"
      ],
      "execution_count": null,
      "outputs": []
    },
    {
      "cell_type": "code",
      "metadata": {
        "id": "SvS7cyKHlyao"
      },
      "source": [
        "datos.head(5)"
      ],
      "execution_count": null,
      "outputs": []
    },
    {
      "cell_type": "code",
      "metadata": {
        "id": "Y48CUgH0lyuv"
      },
      "source": [
        "datos.tail(5)"
      ],
      "execution_count": null,
      "outputs": []
    },
    {
      "cell_type": "code",
      "metadata": {
        "id": "qpxHD206ly6n"
      },
      "source": [
        "#Resumen Base de datos\n",
        "datos.describe()"
      ],
      "execution_count": null,
      "outputs": []
    },
    {
      "cell_type": "code",
      "metadata": {
        "id": "aPDvo29PlzL3"
      },
      "source": [
        "#Volver variable timestamp el index de la base de datos\n",
        "datos.index=datos.timestamp"
      ],
      "execution_count": null,
      "outputs": []
    },
    {
      "cell_type": "code",
      "metadata": {
        "id": "HhcB-xqUmCD4"
      },
      "source": [
        "# Agregar los datos y encontrar promedio del compound score por dia\n",
        "scores=datos['Score'].resample(\"d\").mean()\n",
        "scores.fillna(0, inplace=True)\n",
        "datos.describe()"
      ],
      "execution_count": null,
      "outputs": []
    },
    {
      "cell_type": "code",
      "metadata": {
        "id": "lrIQB1WdmCiw"
      },
      "source": [
        "fig = plt.figure(1, figsize=(9, 6))\n",
        "plt.plot(scores)"
      ],
      "execution_count": null,
      "outputs": []
    },
    {
      "cell_type": "code",
      "metadata": {
        "id": "FlOve2t5mCs4"
      },
      "source": [
        "#installing yfinance (Colab)\n",
        "!pip install yfinance\n",
        "#pip install yfinance --upgrade --no-cache-dir\n",
        "import yfinance as yf\n",
        "from pandas_datareader import data as pdr\n",
        "yf.pdr_override()"
      ],
      "execution_count": null,
      "outputs": []
    },
    {
      "cell_type": "code",
      "metadata": {
        "id": "ksZqrQEMmC1o"
      },
      "source": [
        "#Univariate time series\n",
        "#df_btc= web.DataReader(\"BTC-USD\", 'yahoo')#Use if yfinance does not work\n",
        "print(\"-------------------------------- DATA -------------------------------\")\n",
        "df_btc = pdr.get_data_yahoo([\"BTC-USD\"])\n",
        "df_btc.head(5)"
      ],
      "execution_count": null,
      "outputs": []
    },
    {
      "cell_type": "code",
      "metadata": {
        "id": "-3rk3rrFmC9w"
      },
      "source": [
        "# generar un merge entre los datos de bitcoin y la serie del compound score\n",
        "p2=pd.concat([df_btc,scores], axis=1, join=\"inner\")\n",
        "p2.head(5)"
      ],
      "execution_count": null,
      "outputs": []
    },
    {
      "cell_type": "code",
      "metadata": {
        "id": "QM11atTNmhFe"
      },
      "source": [
        "#Variable del cambio en el precio del bitcoin con respecto al día anterior\n",
        "p2['Cambio']=p2.Close-p2.Open"
      ],
      "execution_count": null,
      "outputs": []
    },
    {
      "cell_type": "code",
      "metadata": {
        "id": "iGS1HM8bmhH-"
      },
      "source": [
        "# Definir función para crear variable de interes \"1\" si el precio subio ese día\n",
        "def subida(x):\n",
        "  if x>0:\n",
        "    return 1\n",
        "  else:\n",
        "    return 0"
      ],
      "execution_count": null,
      "outputs": []
    },
    {
      "cell_type": "code",
      "metadata": {
        "id": "F_7hj1-RmxzG"
      },
      "source": [
        "p2['dummy']=p2.Cambio.apply(subida)\n",
        "p2.head()"
      ],
      "execution_count": null,
      "outputs": []
    },
    {
      "cell_type": "code",
      "metadata": {
        "id": "P_RaLFpxmznv"
      },
      "source": [
        "#generar variables X Y para el modelo\n",
        "X=np.array(p2.Score).reshape(-1,1)\n",
        "y=np.array(p2.dummy)\n",
        "X.shape"
      ],
      "execution_count": null,
      "outputs": []
    },
    {
      "cell_type": "code",
      "metadata": {
        "id": "_mYZAuARm81r"
      },
      "source": [
        "#librerias para el modelo logistico\n",
        "from sklearn import linear_model\n",
        "from sklearn import model_selection\n",
        "from sklearn.metrics import classification_report\n",
        "from sklearn.metrics import confusion_matrix\n",
        "from sklearn.metrics import accuracy_score"
      ],
      "execution_count": null,
      "outputs": []
    },
    {
      "cell_type": "code",
      "metadata": {
        "id": "Lpysi4A7m84R"
      },
      "source": [
        "#Generación de semilla para usar validación cruzada\n",
        "validation_size=0.20\n",
        "seed=7\n",
        "X_train, X_val, y_train, y_val=model_selection.train_test_split(X, y, test_size=validation_size, random_state=seed)"
      ],
      "execution_count": null,
      "outputs": []
    },
    {
      "cell_type": "code",
      "metadata": {
        "id": "j60U1IoYm8-X"
      },
      "source": [
        "#Modelo con validación cruzada\n",
        "model = linear_model.LogisticRegression()\n",
        "model.fit(X,y)\n",
        "name='Logistic Regression'\n",
        "kfold = model_selection.KFold(n_splits=10, random_state=seed)\n",
        "cv_results = model_selection.cross_val_score(model, X_train, y_train, cv=kfold, scoring='accuracy')\n",
        "msg = \"%s: %f (%f)\" % (name, cv_results.mean(), cv_results.std())\n",
        "print(msg)"
      ],
      "execution_count": null,
      "outputs": []
    },
    {
      "cell_type": "code",
      "metadata": {
        "id": "8YtX5UxZnKoS"
      },
      "source": [
        "#Accuracy\n",
        "predictions = model.predict(X_val)\n",
        "print(accuracy_score(y_val, predictions))"
      ],
      "execution_count": null,
      "outputs": []
    },
    {
      "cell_type": "code",
      "metadata": {
        "id": "9OwvdYGenKqr"
      },
      "source": [
        "#Modelo con datos de entrenamiento y predicciones con validación\n",
        "model.fit(X_train,y_train)\n",
        "predictions = model.predict(X_val)\n",
        "print(accuracy_score(y_val, predictions))"
      ],
      "execution_count": null,
      "outputs": []
    },
    {
      "cell_type": "code",
      "metadata": {
        "id": "PiA_LbXAnKtM"
      },
      "source": [
        "#Resumen del modelo\n",
        "print(classification_report(y_val, predictions))"
      ],
      "execution_count": null,
      "outputs": []
    }
  ]
}