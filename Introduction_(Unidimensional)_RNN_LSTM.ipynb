{
  "nbformat": 4,
  "nbformat_minor": 0,
  "metadata": {
    "colab": {
      "name": "Introduction (Unidimensional) RNN-LSTM.ipynb",
      "provenance": []
    },
    "kernelspec": {
      "name": "python3",
      "display_name": "Python 3"
    },
    "language_info": {
      "name": "python"
    }
  },
  "cells": [
    {
      "cell_type": "markdown",
      "metadata": {
        "id": "S5ODv4lIf5e2"
      },
      "source": [
        "# Introducción a las redes RNN-LSTM"
      ]
    },
    {
      "cell_type": "markdown",
      "metadata": {
        "id": "8-b4i7Kgf1_P"
      },
      "source": [
        "## Contenido\n",
        "### 1. Importando datos de 'yfinance'.\n",
        "### 2. Usando get_data_yahoo (y mostrando Ticker) para importar datos del Bitcoin."
      ]
    },
    {
      "cell_type": "markdown",
      "metadata": {
        "id": "9crszX8z13Mb"
      },
      "source": [
        "### *Importando paquetes:*"
      ]
    },
    {
      "cell_type": "code",
      "metadata": {
        "id": "wQ4LI39uftQY"
      },
      "source": [
        "#RNN\n",
        "import tensorflow as tf\n",
        "#Graphics\n",
        "import matplotlib as mpl\n",
        "import matplotlib.pyplot as plt\n",
        "import numpy as np\n",
        "import os\n",
        "import pandas as pd\n",
        "#Setting figure size\n",
        "mpl.rcParams['figure.figsize'] = (8,6)\n",
        "mpl.rcParams['axes.grid'] = False"
      ],
      "execution_count": null,
      "outputs": []
    },
    {
      "cell_type": "markdown",
      "metadata": {
        "id": "DJBGjtdB7DPl"
      },
      "source": [
        "### *Instalando yfinance:*"
      ]
    },
    {
      "cell_type": "code",
      "metadata": {
        "colab": {
          "base_uri": "https://localhost:8080/"
        },
        "id": "7_rERmxi7P5Z",
        "outputId": "7c4ff90d-813c-4478-da08-bd97c023deef"
      },
      "source": [
        "#installing yfinance (Colab)\n",
        "!pip install yfinance\n",
        "#pip install yfinance --upgrade --no-cache-dir"
      ],
      "execution_count": null,
      "outputs": [
        {
          "output_type": "stream",
          "text": [
            "Collecting yfinance\n",
            "  Downloading https://files.pythonhosted.org/packages/a7/ee/315752b9ef281ba83c62aa7ec2e2074f85223da6e7e74efb4d3e11c0f510/yfinance-0.1.59.tar.gz\n",
            "Requirement already satisfied: pandas>=0.24 in /usr/local/lib/python3.7/dist-packages (from yfinance) (1.1.5)\n",
            "Requirement already satisfied: numpy>=1.15 in /usr/local/lib/python3.7/dist-packages (from yfinance) (1.19.5)\n",
            "Requirement already satisfied: requests>=2.20 in /usr/local/lib/python3.7/dist-packages (from yfinance) (2.23.0)\n",
            "Requirement already satisfied: multitasking>=0.0.7 in /usr/local/lib/python3.7/dist-packages (from yfinance) (0.0.9)\n",
            "Collecting lxml>=4.5.1\n",
            "\u001b[?25l  Downloading https://files.pythonhosted.org/packages/30/c0/d0526314971fc661b083ab135747dc68446a3022686da8c16d25fcf6ef07/lxml-4.6.3-cp37-cp37m-manylinux2014_x86_64.whl (6.3MB)\n",
            "\u001b[K     |████████████████████████████████| 6.3MB 12.1MB/s \n",
            "\u001b[?25hRequirement already satisfied: pytz>=2017.2 in /usr/local/lib/python3.7/dist-packages (from pandas>=0.24->yfinance) (2018.9)\n",
            "Requirement already satisfied: python-dateutil>=2.7.3 in /usr/local/lib/python3.7/dist-packages (from pandas>=0.24->yfinance) (2.8.1)\n",
            "Requirement already satisfied: certifi>=2017.4.17 in /usr/local/lib/python3.7/dist-packages (from requests>=2.20->yfinance) (2020.12.5)\n",
            "Requirement already satisfied: chardet<4,>=3.0.2 in /usr/local/lib/python3.7/dist-packages (from requests>=2.20->yfinance) (3.0.4)\n",
            "Requirement already satisfied: idna<3,>=2.5 in /usr/local/lib/python3.7/dist-packages (from requests>=2.20->yfinance) (2.10)\n",
            "Requirement already satisfied: urllib3!=1.25.0,!=1.25.1,<1.26,>=1.21.1 in /usr/local/lib/python3.7/dist-packages (from requests>=2.20->yfinance) (1.24.3)\n",
            "Requirement already satisfied: six>=1.5 in /usr/local/lib/python3.7/dist-packages (from python-dateutil>=2.7.3->pandas>=0.24->yfinance) (1.15.0)\n",
            "Building wheels for collected packages: yfinance\n",
            "  Building wheel for yfinance (setup.py) ... \u001b[?25l\u001b[?25hdone\n",
            "  Created wheel for yfinance: filename=yfinance-0.1.59-py2.py3-none-any.whl size=23442 sha256=b8128f4f74012b41d3cbf0bd5386f312000e1007d11f7656958753cd4551bb02\n",
            "  Stored in directory: /root/.cache/pip/wheels/f8/2a/0f/4b5a86e1d52e451757eb6bc17fd899629f0925c777741b6d04\n",
            "Successfully built yfinance\n",
            "Installing collected packages: lxml, yfinance\n",
            "  Found existing installation: lxml 4.2.6\n",
            "    Uninstalling lxml-4.2.6:\n",
            "      Successfully uninstalled lxml-4.2.6\n",
            "Successfully installed lxml-4.6.3 yfinance-0.1.59\n"
          ],
          "name": "stdout"
        }
      ]
    },
    {
      "cell_type": "markdown",
      "metadata": {
        "id": "wDhH3UI4yxcV"
      },
      "source": [
        "### *Importando y visualizando datos del bitcoin:*\n"
      ]
    },
    {
      "cell_type": "code",
      "metadata": {
        "colab": {
          "base_uri": "https://localhost:8080/",
          "height": 252
        },
        "id": "Ej4UQGdIYWrx",
        "outputId": "e4a7e6ec-8e78-47e8-ff46-51a05bb173af"
      },
      "source": [
        "import yfinance as yf\n",
        "\n",
        "from pandas_datareader import data as pdr\n",
        "\n",
        "yf.pdr_override() # <== that's all it takes :-)\n",
        "\n",
        "#Univariate time series\n",
        "#One way - get_data_yahoo:\n",
        "btc_usd = pdr.get_data_yahoo(\"BTC-USD\")\n",
        "#print(type(btc_usd))\n",
        "btc_usd.head()\n",
        "#btc_usd.sort_index(ascending=False).head()"
      ],
      "execution_count": null,
      "outputs": [
        {
          "output_type": "stream",
          "text": [
            "\r[*********************100%***********************]  1 of 1 completed\n"
          ],
          "name": "stdout"
        },
        {
          "output_type": "execute_result",
          "data": {
            "text/html": [
              "<div>\n",
              "<style scoped>\n",
              "    .dataframe tbody tr th:only-of-type {\n",
              "        vertical-align: middle;\n",
              "    }\n",
              "\n",
              "    .dataframe tbody tr th {\n",
              "        vertical-align: top;\n",
              "    }\n",
              "\n",
              "    .dataframe thead th {\n",
              "        text-align: right;\n",
              "    }\n",
              "</style>\n",
              "<table border=\"1\" class=\"dataframe\">\n",
              "  <thead>\n",
              "    <tr style=\"text-align: right;\">\n",
              "      <th></th>\n",
              "      <th>Open</th>\n",
              "      <th>High</th>\n",
              "      <th>Low</th>\n",
              "      <th>Close</th>\n",
              "      <th>Adj Close</th>\n",
              "      <th>Volume</th>\n",
              "    </tr>\n",
              "    <tr>\n",
              "      <th>Date</th>\n",
              "      <th></th>\n",
              "      <th></th>\n",
              "      <th></th>\n",
              "      <th></th>\n",
              "      <th></th>\n",
              "      <th></th>\n",
              "    </tr>\n",
              "  </thead>\n",
              "  <tbody>\n",
              "    <tr>\n",
              "      <th>2014-09-17</th>\n",
              "      <td>465.864014</td>\n",
              "      <td>468.174011</td>\n",
              "      <td>452.421997</td>\n",
              "      <td>457.334015</td>\n",
              "      <td>457.334015</td>\n",
              "      <td>21056800</td>\n",
              "    </tr>\n",
              "    <tr>\n",
              "      <th>2014-09-18</th>\n",
              "      <td>456.859985</td>\n",
              "      <td>456.859985</td>\n",
              "      <td>413.104004</td>\n",
              "      <td>424.440002</td>\n",
              "      <td>424.440002</td>\n",
              "      <td>34483200</td>\n",
              "    </tr>\n",
              "    <tr>\n",
              "      <th>2014-09-19</th>\n",
              "      <td>424.102997</td>\n",
              "      <td>427.834991</td>\n",
              "      <td>384.532013</td>\n",
              "      <td>394.795990</td>\n",
              "      <td>394.795990</td>\n",
              "      <td>37919700</td>\n",
              "    </tr>\n",
              "    <tr>\n",
              "      <th>2014-09-20</th>\n",
              "      <td>394.673004</td>\n",
              "      <td>423.295990</td>\n",
              "      <td>389.882996</td>\n",
              "      <td>408.903992</td>\n",
              "      <td>408.903992</td>\n",
              "      <td>36863600</td>\n",
              "    </tr>\n",
              "    <tr>\n",
              "      <th>2014-09-21</th>\n",
              "      <td>408.084991</td>\n",
              "      <td>412.425995</td>\n",
              "      <td>393.181000</td>\n",
              "      <td>398.821014</td>\n",
              "      <td>398.821014</td>\n",
              "      <td>26580100</td>\n",
              "    </tr>\n",
              "  </tbody>\n",
              "</table>\n",
              "</div>"
            ],
            "text/plain": [
              "                  Open        High  ...   Adj Close    Volume\n",
              "Date                                ...                      \n",
              "2014-09-17  465.864014  468.174011  ...  457.334015  21056800\n",
              "2014-09-18  456.859985  456.859985  ...  424.440002  34483200\n",
              "2014-09-19  424.102997  427.834991  ...  394.795990  37919700\n",
              "2014-09-20  394.673004  423.295990  ...  408.903992  36863600\n",
              "2014-09-21  408.084991  412.425995  ...  398.821014  26580100\n",
              "\n",
              "[5 rows x 6 columns]"
            ]
          },
          "metadata": {
            "tags": []
          },
          "execution_count": 45
        }
      ]
    },
    {
      "cell_type": "markdown",
      "metadata": {
        "id": "LqZMmGwctMf1"
      },
      "source": [
        "La siguiente celda se puede omitir pues solo muestra la aplicación de unos métodos para series de tiempo univariadas (usando Ticker) y como importar series de tiempo multivariadas:"
      ]
    },
    {
      "cell_type": "code",
      "metadata": {
        "colab": {
          "base_uri": "https://localhost:8080/"
        },
        "id": "ZhUeAZCk2nur",
        "outputId": "80d41e1d-98ac-4b9a-8aec-00075f951d16"
      },
      "source": [
        "###NOTE: minimum interval: 1 minute\n",
        "#------------------------\n",
        "#Univariate time series\n",
        "#------------------------\n",
        "btc_usd = yf.Ticker(\"BTC-USD\")\n",
        "#type(btc_usd)\n",
        "#Exploring some methods\n",
        "#btc_usd.info\n",
        "#btc_usd.actions\n",
        "#btc_usd.financials\n",
        "#btc_usd.history(period=\"max\")\n",
        "#btc_usd.calendar\n",
        "#### valid periods: 1d,5d,1mo,3mo,6mo,1y,2y,5y,10y,ytd,max\n",
        "# valid intervals: 1m,2m,5m,15m,30m,60m,90m,1h,1d,5d,1wk,1mo,3mo\n",
        "#btc_usd.history(period=\"2d\",interval=\"1m\") \n",
        "\n",
        "#-------------------------\n",
        "#Multivariate time series\n",
        "#-------------------------\n",
        "starDate=\"2017-01-01\" #year-month-day\n",
        "endDate=\"2017-04-30\"\n",
        "data = pdr.get_data_yahoo(\"BTC-USD ETH-USD\", start=starDate, end=endDate)\n",
        "#print(data)\n",
        "#print(data[\"Adj Close\"])\n",
        "#print(type(data[\"Adj Close\"][\"BTC-USD\"]))\n",
        "#print(data[\"Adj Close\"][\"BTC-USD\"])\n",
        "dataTickers = yf.Tickers('BTC-USD ETH-USD')\n",
        "#print(dataTickers.tickers[\"BTC-USD\"].info)\n",
        "#print(dataTickers.tickers[\"ETH-USD\"].history(period=\"1mo\"))"
      ],
      "execution_count": null,
      "outputs": [
        {
          "output_type": "stream",
          "text": [
            "[*********************100%***********************]  2 of 2 completed\n"
          ],
          "name": "stdout"
        }
      ]
    },
    {
      "cell_type": "markdown",
      "metadata": {
        "id": "3gQK7P_lzX6Y"
      },
      "source": [
        "## Registros diarios (uno por día)\n",
        "Como se puede ver hay se tienen 2420 registros diarios del Bitcoin (desde el 2014 hasta la fecha):"
      ]
    },
    {
      "cell_type": "code",
      "metadata": {
        "colab": {
          "base_uri": "https://localhost:8080/",
          "height": 297
        },
        "id": "hXQKJIvgzLf6",
        "outputId": "3343591a-cb53-414f-c0e5-7fdc51a666d8"
      },
      "source": [
        "btc_usd.describe()"
      ],
      "execution_count": null,
      "outputs": [
        {
          "output_type": "execute_result",
          "data": {
            "text/html": [
              "<div>\n",
              "<style scoped>\n",
              "    .dataframe tbody tr th:only-of-type {\n",
              "        vertical-align: middle;\n",
              "    }\n",
              "\n",
              "    .dataframe tbody tr th {\n",
              "        vertical-align: top;\n",
              "    }\n",
              "\n",
              "    .dataframe thead th {\n",
              "        text-align: right;\n",
              "    }\n",
              "</style>\n",
              "<table border=\"1\" class=\"dataframe\">\n",
              "  <thead>\n",
              "    <tr style=\"text-align: right;\">\n",
              "      <th></th>\n",
              "      <th>Open</th>\n",
              "      <th>High</th>\n",
              "      <th>Low</th>\n",
              "      <th>Close</th>\n",
              "      <th>Adj Close</th>\n",
              "      <th>Volume</th>\n",
              "    </tr>\n",
              "  </thead>\n",
              "  <tbody>\n",
              "    <tr>\n",
              "      <th>count</th>\n",
              "      <td>2420.000000</td>\n",
              "      <td>2420.000000</td>\n",
              "      <td>2420.000000</td>\n",
              "      <td>2420.000000</td>\n",
              "      <td>2420.000000</td>\n",
              "      <td>2.420000e+03</td>\n",
              "    </tr>\n",
              "    <tr>\n",
              "      <th>mean</th>\n",
              "      <td>7181.010056</td>\n",
              "      <td>7381.848160</td>\n",
              "      <td>6972.559317</td>\n",
              "      <td>7203.258802</td>\n",
              "      <td>7203.258802</td>\n",
              "      <td>1.202059e+10</td>\n",
              "    </tr>\n",
              "    <tr>\n",
              "      <th>std</th>\n",
              "      <td>10987.476599</td>\n",
              "      <td>11326.491521</td>\n",
              "      <td>10624.228097</td>\n",
              "      <td>11031.018231</td>\n",
              "      <td>11031.018231</td>\n",
              "      <td>1.896379e+10</td>\n",
              "    </tr>\n",
              "    <tr>\n",
              "      <th>min</th>\n",
              "      <td>176.897003</td>\n",
              "      <td>211.731003</td>\n",
              "      <td>171.509995</td>\n",
              "      <td>178.102997</td>\n",
              "      <td>178.102997</td>\n",
              "      <td>5.914570e+06</td>\n",
              "    </tr>\n",
              "    <tr>\n",
              "      <th>25%</th>\n",
              "      <td>456.606735</td>\n",
              "      <td>462.342987</td>\n",
              "      <td>452.814255</td>\n",
              "      <td>457.020012</td>\n",
              "      <td>457.020012</td>\n",
              "      <td>6.816818e+07</td>\n",
              "    </tr>\n",
              "    <tr>\n",
              "      <th>50%</th>\n",
              "      <td>4161.514648</td>\n",
              "      <td>4305.169678</td>\n",
              "      <td>4039.778198</td>\n",
              "      <td>4162.169922</td>\n",
              "      <td>4162.169922</td>\n",
              "      <td>3.887975e+09</td>\n",
              "    </tr>\n",
              "    <tr>\n",
              "      <th>75%</th>\n",
              "      <td>9079.129395</td>\n",
              "      <td>9260.579590</td>\n",
              "      <td>8831.768066</td>\n",
              "      <td>9083.147949</td>\n",
              "      <td>9083.147949</td>\n",
              "      <td>1.803720e+10</td>\n",
              "    </tr>\n",
              "    <tr>\n",
              "      <th>max</th>\n",
              "      <td>63523.753906</td>\n",
              "      <td>64863.097656</td>\n",
              "      <td>62208.964844</td>\n",
              "      <td>63503.457031</td>\n",
              "      <td>63503.457031</td>\n",
              "      <td>3.509679e+11</td>\n",
              "    </tr>\n",
              "  </tbody>\n",
              "</table>\n",
              "</div>"
            ],
            "text/plain": [
              "               Open          High  ...     Adj Close        Volume\n",
              "count   2420.000000   2420.000000  ...   2420.000000  2.420000e+03\n",
              "mean    7181.010056   7381.848160  ...   7203.258802  1.202059e+10\n",
              "std    10987.476599  11326.491521  ...  11031.018231  1.896379e+10\n",
              "min      176.897003    211.731003  ...    178.102997  5.914570e+06\n",
              "25%      456.606735    462.342987  ...    457.020012  6.816818e+07\n",
              "50%     4161.514648   4305.169678  ...   4162.169922  3.887975e+09\n",
              "75%     9079.129395   9260.579590  ...   9083.147949  1.803720e+10\n",
              "max    63523.753906  64863.097656  ...  63503.457031  3.509679e+11\n",
              "\n",
              "[8 rows x 6 columns]"
            ]
          },
          "metadata": {
            "tags": []
          },
          "execution_count": 37
        }
      ]
    },
    {
      "cell_type": "markdown",
      "metadata": {
        "id": "m6dh_jA7F3m2"
      },
      "source": [
        "## Función de preparación de datos univariados de entrenamiento (*candidata a exportar*)"
      ]
    },
    {
      "cell_type": "code",
      "metadata": {
        "id": "mbHdJ7DsGyCi"
      },
      "source": [
        "def univariate_data(dataset, start_index, end_index, history_size, target_size):\n",
        "  data = []\n",
        "  labels = []\n",
        "\n",
        "  start_index = start_index + history_size\n",
        "  if end_index is None:\n",
        "    end_index = len(dataset) - target_size\n",
        "\n",
        "  for i in range(start_index, end_index):\n",
        "    indices = range(i-history_size,i)\n",
        "    #Reshape data from (history_size,) to (history_size,1)\n",
        "    data.append(np.reshape(dataset[indices], (history_size, 1)))\n",
        "    labels.append(dataset[i+target_size-1])\n",
        "  return np.array(data), np.array(labels)\n"
      ],
      "execution_count": null,
      "outputs": []
    },
    {
      "cell_type": "markdown",
      "metadata": {
        "id": "pM6MWmJE7hfg"
      },
      "source": [
        ""
      ]
    },
    {
      "cell_type": "code",
      "metadata": {
        "id": "PJ4vJqGA2oFW"
      },
      "source": [
        ""
      ],
      "execution_count": null,
      "outputs": []
    },
    {
      "cell_type": "markdown",
      "metadata": {
        "id": "W8f07OPfgOxI"
      },
      "source": [
        "## Bibliografía\n",
        "### Redes RNN-LSTM (cuaderno).\n",
        "1. [Introducción a Keras LSTM para series de tiempo multivariadas. Montenegro et.al.](https://nbviewer.jupyter.org/github/AprendizajeProfundo/Diplomado/blob/master/Temas/M%C3%B3dulo%205-%20Redes%20recurrentes/Cuadernos/rnrTimes_series_Multivariate.ipynb).\n",
        "### Yahoo Finance (datos importados).\n",
        "2. [Yahoo Finance API – A Complete Guide](https://algotrading101.com/learn/yahoo-finance-api-guide/)\n",
        "3. [yfinance Library – A Complete Guide](https://algotrading101.com/learn/yfinance-guide/)\n",
        "4. [yfinance documentation](https://pypi.org/project/yfinance/)\n",
        "### Cuadernos de referencia.\n",
        "5. [Predicción de acciones usando análisis multivariado (repo)\n",
        "](https://github.com/ninja3697/Stocks-Price-Prediction-using-Multivariate-Analysis). \n",
        "6. [Serie de tiempo multivariadas para predicción de precios en Python](https://www.relataly.com/stock-market-prediction-with-multivariate-time-series-in-python/1815/). \n",
        "7. [Conversión de datos (clima)](https://machinelearningmastery.com/convert-time-series-supervised-learning-problem-python/).\n",
        "8. [Predicción en series de tiempo multivariadas (clima)](https://machinelearningmastery.com/multivariate-time-series-forecasting-lstms-keras/).\n",
        "### Libro\n",
        "9. [François Chollet - Deep Learning with Python](https://b-ok.lat/s/Deep%20Learning%20with%20Python%20Fran%C3%A7ois%20Chollet).\n",
        "### Artículo\n",
        "10. [Stock Price Prediction Using CONVOLUTIONAL Neural Networks on a Multivariate Timeseries. Article](https://www.researchgate.net/publication/338477393_Stock_Price_Prediction_Using_Convolutional_Neural_Networks_on_a_Multivariate_Timeseries). \n",
        "[]().\n"
      ]
    },
    {
      "cell_type": "markdown",
      "metadata": {
        "id": "VNK29ket7jhI"
      },
      "source": [
        "##Links sobre criptomonedas (bitcoin especialmente)\n",
        "https://unperiodico.unal.edu.co/pages/detail/criptomonedas-una-herramienta-riesgosa-pero-de-uso-inminente/\n",
        "\n",
        "https://repositorio.udesa.edu.ar/jspui/bitstream/10908/16022/1/%5BP%5D%5BW%5D%20T.%20M.%20AyPP.%20Lojo%20M%C3%A1rquez%2C%20Tamara%20In%C3%A9s.pdf  (cap2 c, cap3 ii, cap4)\n",
        "\n",
        "https://www.daviescoin.io/es/blog/que-determina-el-valor-de-las-criptomonedas\n",
        "\n",
        "https://www.tekcrispy.com/2018/05/16/que-determina-precio-criptomonedas/\n",
        "\n",
        "https://repositorio.uniagustiniana.edu.co/bitstream/handle/123456789/845/HurtadoCuellar-AngieDaniela-2019.pdf.pdf?sequence=1 (cap7)\n"
      ]
    }
  ]
}