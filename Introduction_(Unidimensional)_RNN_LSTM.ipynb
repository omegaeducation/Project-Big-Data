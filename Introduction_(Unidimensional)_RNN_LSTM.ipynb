{
  "nbformat": 4,
  "nbformat_minor": 0,
  "metadata": {
    "colab": {
      "name": "Introduction (Unidimensional) RNN-LSTM.ipynb",
      "provenance": []
    },
    "kernelspec": {
      "name": "python3",
      "display_name": "Python 3"
    },
    "language_info": {
      "name": "python"
    }
  },
  "cells": [
    {
      "cell_type": "markdown",
      "metadata": {
        "id": "S5ODv4lIf5e2"
      },
      "source": [
        "# Introduction to RNN-LSTM"
      ]
    },
    {
      "cell_type": "markdown",
      "metadata": {
        "id": "8-b4i7Kgf1_P"
      },
      "source": [
        "## Content\n",
        "### 1.\n",
        "### 2."
      ]
    },
    {
      "cell_type": "markdown",
      "metadata": {
        "id": "9crszX8z13Mb"
      },
      "source": [
        "### *Importing packages:*"
      ]
    },
    {
      "cell_type": "code",
      "metadata": {
        "id": "wQ4LI39uftQY"
      },
      "source": [
        "#RNN\n",
        "import tensorflow as tf\n",
        "#Graphics\n",
        "import matplotlib as mpl\n",
        "import matplotlib.pyplot as plt\n",
        "import numpy as np\n",
        "import os\n",
        "import pandas as pd\n",
        "#Setting figure size\n",
        "mpl.rcParams['figure.figsize'] = (8,6)\n",
        "mpl.rcParams['axes.grid'] = False"
      ],
      "execution_count": null,
      "outputs": []
    },
    {
      "cell_type": "markdown",
      "metadata": {
        "id": "DJBGjtdB7DPl"
      },
      "source": [
        "### *Importing data:*"
      ]
    },
    {
      "cell_type": "code",
      "metadata": {
        "colab": {
          "base_uri": "https://localhost:8080/"
        },
        "id": "7_rERmxi7P5Z",
        "outputId": "df4e3a21-bc6e-42d5-b186-7109262dd967"
      },
      "source": [
        "#installing yfinance (Colab)\n",
        "!pip install yfinance\n",
        "#pip install yfinance --upgrade --no-cache-dir"
      ],
      "execution_count": null,
      "outputs": [
        {
          "output_type": "stream",
          "text": [
            "Collecting yfinance\n",
            "  Downloading https://files.pythonhosted.org/packages/a7/ee/315752b9ef281ba83c62aa7ec2e2074f85223da6e7e74efb4d3e11c0f510/yfinance-0.1.59.tar.gz\n",
            "Requirement already satisfied: pandas>=0.24 in /usr/local/lib/python3.7/dist-packages (from yfinance) (1.1.5)\n",
            "Requirement already satisfied: numpy>=1.15 in /usr/local/lib/python3.7/dist-packages (from yfinance) (1.19.5)\n",
            "Requirement already satisfied: requests>=2.20 in /usr/local/lib/python3.7/dist-packages (from yfinance) (2.23.0)\n",
            "Requirement already satisfied: multitasking>=0.0.7 in /usr/local/lib/python3.7/dist-packages (from yfinance) (0.0.9)\n",
            "Collecting lxml>=4.5.1\n",
            "\u001b[?25l  Downloading https://files.pythonhosted.org/packages/cf/4d/6537313bf58fe22b508f08cf3eb86b29b6f9edf68e00454224539421073b/lxml-4.6.3-cp37-cp37m-manylinux1_x86_64.whl (5.5MB)\n",
            "\u001b[K     |████████████████████████████████| 5.5MB 15.9MB/s \n",
            "\u001b[?25hRequirement already satisfied: pytz>=2017.2 in /usr/local/lib/python3.7/dist-packages (from pandas>=0.24->yfinance) (2018.9)\n",
            "Requirement already satisfied: python-dateutil>=2.7.3 in /usr/local/lib/python3.7/dist-packages (from pandas>=0.24->yfinance) (2.8.1)\n",
            "Requirement already satisfied: idna<3,>=2.5 in /usr/local/lib/python3.7/dist-packages (from requests>=2.20->yfinance) (2.10)\n",
            "Requirement already satisfied: urllib3!=1.25.0,!=1.25.1,<1.26,>=1.21.1 in /usr/local/lib/python3.7/dist-packages (from requests>=2.20->yfinance) (1.24.3)\n",
            "Requirement already satisfied: chardet<4,>=3.0.2 in /usr/local/lib/python3.7/dist-packages (from requests>=2.20->yfinance) (3.0.4)\n",
            "Requirement already satisfied: certifi>=2017.4.17 in /usr/local/lib/python3.7/dist-packages (from requests>=2.20->yfinance) (2020.12.5)\n",
            "Requirement already satisfied: six>=1.5 in /usr/local/lib/python3.7/dist-packages (from python-dateutil>=2.7.3->pandas>=0.24->yfinance) (1.15.0)\n",
            "Building wheels for collected packages: yfinance\n",
            "  Building wheel for yfinance (setup.py) ... \u001b[?25l\u001b[?25hdone\n",
            "  Created wheel for yfinance: filename=yfinance-0.1.59-py2.py3-none-any.whl size=23442 sha256=40b366037103184ff0f82fa46456aa80b64ff02ddcb1d7dd5f60df764459ee39\n",
            "  Stored in directory: /root/.cache/pip/wheels/f8/2a/0f/4b5a86e1d52e451757eb6bc17fd899629f0925c777741b6d04\n",
            "Successfully built yfinance\n",
            "Installing collected packages: lxml, yfinance\n",
            "  Found existing installation: lxml 4.2.6\n",
            "    Uninstalling lxml-4.2.6:\n",
            "      Successfully uninstalled lxml-4.2.6\n",
            "Successfully installed lxml-4.6.3 yfinance-0.1.59\n"
          ],
          "name": "stdout"
        }
      ]
    },
    {
      "cell_type": "code",
      "metadata": {
        "colab": {
          "base_uri": "https://localhost:8080/"
        },
        "id": "Ej4UQGdIYWrx",
        "outputId": "cbdbeda7-9233-423d-d483-1977b8cfe682"
      },
      "source": [
        "###THINGS: minimum interval: 1 minute\n",
        "###NOTE: testing a lot of methods\n",
        "import yfinance as yf\n",
        "btc = yf.Ticker(\"BTC-USD\")\n",
        "btc.info"
      ],
      "execution_count": null,
      "outputs": [
        {
          "output_type": "execute_result",
          "data": {
            "text/plain": [
              "{'algorithm': None,\n",
              " 'ask': None,\n",
              " 'askSize': None,\n",
              " 'averageDailyVolume10Day': 58119660885,\n",
              " 'averageVolume': 65092437925,\n",
              " 'averageVolume10days': 58119660885,\n",
              " 'beta': None,\n",
              " 'bid': None,\n",
              " 'bidSize': None,\n",
              " 'circulatingSupply': 18695600,\n",
              " 'companyOfficers': [],\n",
              " 'currency': 'USD',\n",
              " 'dayHigh': 58031.312,\n",
              " 'dayLow': 57728.312,\n",
              " 'description': 'Bitcoin (BTC) is a cryptocurrency . Users are able to generate BTC through the process of mining. Bitcoin has a current supply of 18,695,162. The last known price of Bitcoin is 54,647.1255491 USD and is up 0.41 over the last 24 hours. It is currently trading on 9539 active market(s) with $46,928,605,556.25 traded over the last 24 hours. More information can be found at https://bitcoin.org/.',\n",
              " 'dividendRate': None,\n",
              " 'dividendYield': None,\n",
              " 'exDividendDate': None,\n",
              " 'exchange': 'CCC',\n",
              " 'exchangeTimezoneName': 'Europe/London',\n",
              " 'exchangeTimezoneShortName': 'BST',\n",
              " 'expireDate': None,\n",
              " 'fiftyDayAverage': 57083.09,\n",
              " 'fiftyTwoWeekHigh': 64863.098,\n",
              " 'fiftyTwoWeekLow': 8374.323,\n",
              " 'fiveYearAvgDividendYield': None,\n",
              " 'forwardPE': None,\n",
              " 'fromCurrency': 'BTC',\n",
              " 'gmtOffSetMilliseconds': '3600000',\n",
              " 'isEsgPopulated': False,\n",
              " 'lastMarket': 'CoinMarketCap',\n",
              " 'logo_url': '',\n",
              " 'market': 'ccc_market',\n",
              " 'marketCap': 1081280102400,\n",
              " 'maxAge': 1,\n",
              " 'maxSupply': None,\n",
              " 'messageBoardId': 'finmb_BTC_CCC',\n",
              " 'name': 'Bitcoin',\n",
              " 'navPrice': None,\n",
              " 'open': 57728.312,\n",
              " 'openInterest': None,\n",
              " 'payoutRatio': None,\n",
              " 'previousClose': 57728.312,\n",
              " 'priceHint': 2,\n",
              " 'priceToSalesTrailing12Months': None,\n",
              " 'quoteType': 'CRYPTOCURRENCY',\n",
              " 'regularMarketDayHigh': 58031.312,\n",
              " 'regularMarketDayLow': 57728.312,\n",
              " 'regularMarketOpen': 57728.312,\n",
              " 'regularMarketPreviousClose': 57728.312,\n",
              " 'regularMarketPrice': 57836.074,\n",
              " 'regularMarketVolume': 52849905664,\n",
              " 'shortName': 'Bitcoin USD',\n",
              " 'startDate': 1367107200,\n",
              " 'strikePrice': None,\n",
              " 'symbol': 'BTC-USD',\n",
              " 'toCurrency': 'USD=X',\n",
              " 'totalAssets': None,\n",
              " 'tradeable': False,\n",
              " 'trailingAnnualDividendRate': None,\n",
              " 'trailingAnnualDividendYield': None,\n",
              " 'twoHundredDayAverage': 36075.746,\n",
              " 'volume': 52849905664,\n",
              " 'volume24Hr': 52849905664,\n",
              " 'volumeAllCurrencies': 52849905664,\n",
              " 'yield': None,\n",
              " 'ytdReturn': None}"
            ]
          },
          "metadata": {
            "tags": []
          },
          "execution_count": 22
        }
      ]
    },
    {
      "cell_type": "code",
      "metadata": {
        "colab": {
          "base_uri": "https://localhost:8080/"
        },
        "id": "ZhUeAZCk2nur",
        "outputId": "ad3211b2-bb86-4ec9-fa3f-6bfad9cb6fe5"
      },
      "source": [
        "###THINGS: minimum interval: 1 minute\n",
        "###NOTE: testing a lot of methods\n",
        "\n",
        "import yfinance as yf\n",
        "\n",
        "from pandas_datareader import data as pdr\n",
        "\n",
        "import yfinance as yf\n",
        "yf.pdr_override() # <== that's all it takes :-)\n",
        "\n",
        "#Uni\n",
        "data = pdr.get_data_yahoo(\"BTC-USD\")\n",
        "\n",
        "#Multiple\n",
        "#starDate=\"2017-01-01\" #year-month-day\n",
        "#endDate=\"2017-04-30\"\n",
        "#data = pdr.get_data_yahoo(\"BTC-USD ETH-USD\", start=starDate, end=endDate)\n",
        "print(data)\n",
        "#print(data[\"Adj Close\"])\n",
        "#print(type(data[\"Adj Close\"][\"BTC-USD\"]))\n",
        "#print(data[\"Adj Close\"][\"BTC-USD\"])\n",
        "\n",
        "#Multiple Ticker objects\n",
        "tickers = yf.Tickers('msft aapl goog')\n",
        "# ^ returns a named tuple of Ticker objects\n",
        "#tickers.tickers.info\n",
        "#print(tickers.tickers.MSFT)\n",
        "# access each ticker using (example)\n",
        "#tickers.tickers[\"MSFT\"].info\n",
        "#tickers.tickers[\"AAPL\"].history(period=\"1mo\")\n",
        "#tickers.tickers.GOOG.actions\n",
        "\n",
        "btc_usd = yf.Ticker(\"BTC-USD\")\n",
        "#type(btc_usd)\n",
        "#Exploring some methods\n",
        "#btc_usd.info\n",
        "#btc_usd.actions\n",
        "#btc_usd.financials\n",
        "#btc_usd.history(period=\"max\")\n",
        "#btc_usd.calendar\n",
        "#### valid periods: 1d,5d,1mo,3mo,6mo,1y,2y,5y,10y,ytd,max\n",
        "# valid intervals: 1m,2m,5m,15m,30m,60m,90m,1h,1d,5d,1wk,1mo,3mo\n",
        "#btc_usd.history(period=\"2d\",interval=\"90m\") \n",
        "\n"
      ],
      "execution_count": null,
      "outputs": [
        {
          "output_type": "stream",
          "text": [
            "\r[*********************100%***********************]  1 of 1 completed\n",
            "                    Open          High  ...     Adj Close       Volume\n",
            "Date                                    ...                           \n",
            "2014-09-17    465.864014    468.174011  ...    457.334015     21056800\n",
            "2014-09-18    456.859985    456.859985  ...    424.440002     34483200\n",
            "2014-09-19    424.102997    427.834991  ...    394.795990     37919700\n",
            "2014-09-20    394.673004    423.295990  ...    408.903992     36863600\n",
            "2014-09-21    408.084991    412.425995  ...    398.821014     26580100\n",
            "...                  ...           ...  ...           ...          ...\n",
            "2021-04-26  49077.792969  54288.003906  ...  54021.753906  58284039825\n",
            "2021-04-27  54030.304688  55416.964844  ...  55033.117188  49448222757\n",
            "2021-04-28  55036.636719  56227.207031  ...  54824.703125  48000572955\n",
            "2021-04-29  54858.089844  55115.843750  ...  53555.109375  46088929780\n",
            "2021-05-01  57728.312500  58031.312500  ...  57975.230469  52958375936\n",
            "\n",
            "[2414 rows x 6 columns]\n"
          ],
          "name": "stdout"
        }
      ]
    },
    {
      "cell_type": "markdown",
      "metadata": {
        "id": "pM6MWmJE7hfg"
      },
      "source": [
        ""
      ]
    },
    {
      "cell_type": "code",
      "metadata": {
        "id": "PJ4vJqGA2oFW"
      },
      "source": [
        ""
      ],
      "execution_count": null,
      "outputs": []
    },
    {
      "cell_type": "markdown",
      "metadata": {
        "id": "W8f07OPfgOxI"
      },
      "source": [
        "## Bibliography\n",
        "1. [Introducción a Keras LSTM para series de tiempo multivariadas. Montenegro et.al.](https://nbviewer.jupyter.org/github/AprendizajeProfundo/Diplomado/blob/master/Temas/M%C3%B3dulo%205-%20Redes%20recurrentes/Cuadernos/rnrTimes_series_Multivariate.ipynb).\n",
        "2. [Yahoo Finance API – A Complete Guide](https://algotrading101.com/learn/yahoo-finance-api-guide/)\n",
        "3. [yfinance Library – A Complete Guide](https://algotrading101.com/learn/yfinance-guide/)\n",
        "4. [yfinance documentation](https://pypi.org/project/yfinance/)\n",
        "\n",
        "TO CHECK:\n",
        "\n",
        "[Introducción a Keras LSTM para series de tiempo multivariadas. Montenegro et.al.](). \n",
        "[ninja3697/Stocks-Price-Prediction-using-Multivariate-Analysis11214\n",
        "](https://github.com/ninja3697/Stocks-Price-Prediction-using-Multivariate-Analysis). \n",
        "[Building Multivariate Time Series Models for Stock Market Prediction with Python](https://www.relataly.com/stock-market-prediction-with-multivariate-time-series-in-python/1815/). \n",
        "[(Weather) How to Convert a Time Series to a Supervised Learning Problem in Python ](https://machinelearningmastery.com/convert-time-series-supervised-learning-problem-python/).\n",
        "[(weather) Multivariate Time Series Forecasting with LSTMs in Keras\n",
        "](https://machinelearningmastery.com/multivariate-time-series-forecasting-lstms-keras/).\n",
        "[Book to download](François Chollet para su libro Deep Learning with Python).\n",
        "[]().\n",
        "\n",
        "[Stock Price Prediction Using Convolutional Neural Networks on a Multivariate Timeseries. Article](https://www.researchgate.net/publication/338477393_Stock_Price_Prediction_Using_Convolutional_Neural_Networks_on_a_Multivariate_Timeseries). \n",
        "\n"
      ]
    },
    {
      "cell_type": "code",
      "metadata": {
        "id": "gGRxKeRiGL6w"
      },
      "source": [
        ""
      ],
      "execution_count": null,
      "outputs": []
    }
  ]
}