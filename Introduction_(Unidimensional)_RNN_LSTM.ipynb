{
  "nbformat": 4,
  "nbformat_minor": 0,
  "metadata": {
    "colab": {
      "name": "Introduction (Unidimensional) RNN-LSTM.ipynb",
      "provenance": []
    },
    "kernelspec": {
      "name": "python3",
      "display_name": "Python 3"
    },
    "language_info": {
      "name": "python"
    }
  },
  "cells": [
    {
      "cell_type": "markdown",
      "metadata": {
        "id": "S5ODv4lIf5e2"
      },
      "source": [
        "# Introducción a las redes RNN-LSTM \n",
        "### Análisis unidimensional de series de tiempo (1 paso)"
      ]
    },
    {
      "cell_type": "markdown",
      "metadata": {
        "id": "8-b4i7Kgf1_P"
      },
      "source": [
        "## Contenido\n",
        "### 1. Instalando 'yfinance' y usándolo para importar datos del Bitcoin (utilizando Ticker y get_data_yahoo).\n",
        "### 2. Prueba para importar múltiples datos (opcional).\n",
        "### 3. Creación y explicación de la función \"univariate_data()\" para la preparación de datos."
      ]
    },
    {
      "cell_type": "markdown",
      "metadata": {
        "id": "9crszX8z13Mb"
      },
      "source": [
        "### *Importando paquetes:*"
      ]
    },
    {
      "cell_type": "code",
      "metadata": {
        "id": "wQ4LI39uftQY"
      },
      "source": [
        "#RNN\n",
        "import tensorflow as tf\n",
        "from tensorflow.keras.callbacks import CSVLogger, EarlyStopping\n",
        "#Graphics\n",
        "import matplotlib as mpl\n",
        "import matplotlib.pyplot as plt\n",
        "#Data managing\n",
        "import numpy as np\n",
        "import os\n",
        "import pandas as pd\n",
        "\n",
        "#Setting figure size\n",
        "mpl.rcParams['figure.figsize'] = (8,6)\n",
        "mpl.rcParams['axes.grid'] = False"
      ],
      "execution_count": 2,
      "outputs": []
    },
    {
      "cell_type": "markdown",
      "metadata": {
        "id": "DJBGjtdB7DPl"
      },
      "source": [
        "### *Instalando yfinance:*"
      ]
    },
    {
      "cell_type": "code",
      "metadata": {
        "colab": {
          "base_uri": "https://localhost:8080/"
        },
        "id": "7_rERmxi7P5Z",
        "outputId": "a5bed71e-6c75-42c9-edaf-36774cc225b3"
      },
      "source": [
        "#installing yfinance (Colab)\n",
        "!pip install yfinance\n",
        "#pip install yfinance --upgrade --no-cache-dir"
      ],
      "execution_count": 3,
      "outputs": [
        {
          "output_type": "stream",
          "text": [
            "Collecting yfinance\n",
            "  Downloading https://files.pythonhosted.org/packages/a7/ee/315752b9ef281ba83c62aa7ec2e2074f85223da6e7e74efb4d3e11c0f510/yfinance-0.1.59.tar.gz\n",
            "Requirement already satisfied: pandas>=0.24 in /usr/local/lib/python3.7/dist-packages (from yfinance) (1.1.5)\n",
            "Requirement already satisfied: numpy>=1.15 in /usr/local/lib/python3.7/dist-packages (from yfinance) (1.19.5)\n",
            "Requirement already satisfied: requests>=2.20 in /usr/local/lib/python3.7/dist-packages (from yfinance) (2.23.0)\n",
            "Requirement already satisfied: multitasking>=0.0.7 in /usr/local/lib/python3.7/dist-packages (from yfinance) (0.0.9)\n",
            "Collecting lxml>=4.5.1\n",
            "\u001b[?25l  Downloading https://files.pythonhosted.org/packages/30/c0/d0526314971fc661b083ab135747dc68446a3022686da8c16d25fcf6ef07/lxml-4.6.3-cp37-cp37m-manylinux2014_x86_64.whl (6.3MB)\n",
            "\u001b[K     |████████████████████████████████| 6.3MB 8.5MB/s \n",
            "\u001b[?25hRequirement already satisfied: python-dateutil>=2.7.3 in /usr/local/lib/python3.7/dist-packages (from pandas>=0.24->yfinance) (2.8.1)\n",
            "Requirement already satisfied: pytz>=2017.2 in /usr/local/lib/python3.7/dist-packages (from pandas>=0.24->yfinance) (2018.9)\n",
            "Requirement already satisfied: chardet<4,>=3.0.2 in /usr/local/lib/python3.7/dist-packages (from requests>=2.20->yfinance) (3.0.4)\n",
            "Requirement already satisfied: certifi>=2017.4.17 in /usr/local/lib/python3.7/dist-packages (from requests>=2.20->yfinance) (2020.12.5)\n",
            "Requirement already satisfied: urllib3!=1.25.0,!=1.25.1,<1.26,>=1.21.1 in /usr/local/lib/python3.7/dist-packages (from requests>=2.20->yfinance) (1.24.3)\n",
            "Requirement already satisfied: idna<3,>=2.5 in /usr/local/lib/python3.7/dist-packages (from requests>=2.20->yfinance) (2.10)\n",
            "Requirement already satisfied: six>=1.5 in /usr/local/lib/python3.7/dist-packages (from python-dateutil>=2.7.3->pandas>=0.24->yfinance) (1.15.0)\n",
            "Building wheels for collected packages: yfinance\n",
            "  Building wheel for yfinance (setup.py) ... \u001b[?25l\u001b[?25hdone\n",
            "  Created wheel for yfinance: filename=yfinance-0.1.59-py2.py3-none-any.whl size=23442 sha256=8f622a7e79276948b86fc0baa4c54f5c1b77b10bacb849d2af91c81549ad4663\n",
            "  Stored in directory: /root/.cache/pip/wheels/f8/2a/0f/4b5a86e1d52e451757eb6bc17fd899629f0925c777741b6d04\n",
            "Successfully built yfinance\n",
            "Installing collected packages: lxml, yfinance\n",
            "  Found existing installation: lxml 4.2.6\n",
            "    Uninstalling lxml-4.2.6:\n",
            "      Successfully uninstalled lxml-4.2.6\n",
            "Successfully installed lxml-4.6.3 yfinance-0.1.59\n"
          ],
          "name": "stdout"
        }
      ]
    },
    {
      "cell_type": "markdown",
      "metadata": {
        "id": "wDhH3UI4yxcV"
      },
      "source": [
        "### *Importando y visualizando datos del bitcoin:*\n"
      ]
    },
    {
      "cell_type": "code",
      "metadata": {
        "colab": {
          "base_uri": "https://localhost:8080/",
          "height": 269
        },
        "id": "Ej4UQGdIYWrx",
        "outputId": "f0a09d35-bec4-425e-cf84-3dc4b41251cf"
      },
      "source": [
        "import yfinance as yf\n",
        "\n",
        "from pandas_datareader import data as pdr\n",
        "\n",
        "yf.pdr_override() # <== that's all it takes :-)\n",
        "\n",
        "#Univariate time series\n",
        "#One way - get_data_yahoo:\n",
        "btc_usd = pdr.get_data_yahoo(\"BTC-USD\")\n",
        "print(type(btc_usd))\n",
        "btc_usd.head()\n",
        "#btc_usd.sort_index(ascending=False).head()\n",
        "\n",
        "#NOTE: Check that index is date by default"
      ],
      "execution_count": 44,
      "outputs": [
        {
          "output_type": "stream",
          "text": [
            "\r[*********************100%***********************]  1 of 1 completed\n",
            "<class 'pandas.core.frame.DataFrame'>\n"
          ],
          "name": "stdout"
        },
        {
          "output_type": "execute_result",
          "data": {
            "text/html": [
              "<div>\n",
              "<style scoped>\n",
              "    .dataframe tbody tr th:only-of-type {\n",
              "        vertical-align: middle;\n",
              "    }\n",
              "\n",
              "    .dataframe tbody tr th {\n",
              "        vertical-align: top;\n",
              "    }\n",
              "\n",
              "    .dataframe thead th {\n",
              "        text-align: right;\n",
              "    }\n",
              "</style>\n",
              "<table border=\"1\" class=\"dataframe\">\n",
              "  <thead>\n",
              "    <tr style=\"text-align: right;\">\n",
              "      <th></th>\n",
              "      <th>Open</th>\n",
              "      <th>High</th>\n",
              "      <th>Low</th>\n",
              "      <th>Close</th>\n",
              "      <th>Adj Close</th>\n",
              "      <th>Volume</th>\n",
              "    </tr>\n",
              "    <tr>\n",
              "      <th>Date</th>\n",
              "      <th></th>\n",
              "      <th></th>\n",
              "      <th></th>\n",
              "      <th></th>\n",
              "      <th></th>\n",
              "      <th></th>\n",
              "    </tr>\n",
              "  </thead>\n",
              "  <tbody>\n",
              "    <tr>\n",
              "      <th>2014-09-17</th>\n",
              "      <td>465.864014</td>\n",
              "      <td>468.174011</td>\n",
              "      <td>452.421997</td>\n",
              "      <td>457.334015</td>\n",
              "      <td>457.334015</td>\n",
              "      <td>21056800</td>\n",
              "    </tr>\n",
              "    <tr>\n",
              "      <th>2014-09-18</th>\n",
              "      <td>456.859985</td>\n",
              "      <td>456.859985</td>\n",
              "      <td>413.104004</td>\n",
              "      <td>424.440002</td>\n",
              "      <td>424.440002</td>\n",
              "      <td>34483200</td>\n",
              "    </tr>\n",
              "    <tr>\n",
              "      <th>2014-09-19</th>\n",
              "      <td>424.102997</td>\n",
              "      <td>427.834991</td>\n",
              "      <td>384.532013</td>\n",
              "      <td>394.795990</td>\n",
              "      <td>394.795990</td>\n",
              "      <td>37919700</td>\n",
              "    </tr>\n",
              "    <tr>\n",
              "      <th>2014-09-20</th>\n",
              "      <td>394.673004</td>\n",
              "      <td>423.295990</td>\n",
              "      <td>389.882996</td>\n",
              "      <td>408.903992</td>\n",
              "      <td>408.903992</td>\n",
              "      <td>36863600</td>\n",
              "    </tr>\n",
              "    <tr>\n",
              "      <th>2014-09-21</th>\n",
              "      <td>408.084991</td>\n",
              "      <td>412.425995</td>\n",
              "      <td>393.181000</td>\n",
              "      <td>398.821014</td>\n",
              "      <td>398.821014</td>\n",
              "      <td>26580100</td>\n",
              "    </tr>\n",
              "  </tbody>\n",
              "</table>\n",
              "</div>"
            ],
            "text/plain": [
              "                  Open        High  ...   Adj Close    Volume\n",
              "Date                                ...                      \n",
              "2014-09-17  465.864014  468.174011  ...  457.334015  21056800\n",
              "2014-09-18  456.859985  456.859985  ...  424.440002  34483200\n",
              "2014-09-19  424.102997  427.834991  ...  394.795990  37919700\n",
              "2014-09-20  394.673004  423.295990  ...  408.903992  36863600\n",
              "2014-09-21  408.084991  412.425995  ...  398.821014  26580100\n",
              "\n",
              "[5 rows x 6 columns]"
            ]
          },
          "metadata": {
            "tags": []
          },
          "execution_count": 44
        }
      ]
    },
    {
      "cell_type": "markdown",
      "metadata": {
        "id": "LqZMmGwctMf1"
      },
      "source": [
        "## (Opcional):\n",
        "La siguiente celda se puede omitir pues solo muestra la aplicación de unos métodos para series de tiempo univariadas (usando Ticker) y como importar series de tiempo multivariadas:"
      ]
    },
    {
      "cell_type": "code",
      "metadata": {
        "colab": {
          "base_uri": "https://localhost:8080/"
        },
        "id": "ZhUeAZCk2nur",
        "outputId": "4496ac89-d05e-4868-eb42-41e9c9f53889"
      },
      "source": [
        "###NOTE: minimum interval: 1 minute\n",
        "#------------------------\n",
        "#Univariate time series\n",
        "#------------------------\n",
        "btc_usd_T = yf.Ticker(\"BTC-USD\")\n",
        "#type(btc_usd)\n",
        "#Exploring some methods\n",
        "#btc_usd.info\n",
        "#btc_usd.actions\n",
        "#btc_usd.financials\n",
        "#btc_usd.history(period=\"max\")\n",
        "#btc_usd.calendar\n",
        "#### valid periods: 1d,5d,1mo,3mo,6mo,1y,2y,5y,10y,ytd,max\n",
        "# valid intervals: 1m,2m,5m,15m,30m,60m,90m,1h,1d,5d,1wk,1mo,3mo\n",
        "#btc_usd.history(period=\"2d\",interval=\"1m\") \n",
        "\n",
        "#-------------------------\n",
        "#Multivariate time series\n",
        "#-------------------------\n",
        "starDate=\"2017-01-01\" #year-month-day\n",
        "endDate=\"2017-04-30\"\n",
        "data = pdr.get_data_yahoo(\"BTC-USD ETH-USD\", start=starDate, end=endDate)\n",
        "#print(data)\n",
        "#print(data[\"Adj Close\"])\n",
        "#print(type(data[\"Adj Close\"][\"BTC-USD\"]))\n",
        "#print(data[\"Adj Close\"][\"BTC-USD\"])\n",
        "dataTickers = yf.Tickers('BTC-USD ETH-USD')\n",
        "#print(dataTickers.tickers[\"BTC-USD\"].info)\n",
        "#print(dataTickers.tickers[\"ETH-USD\"].history(period=\"1mo\"))"
      ],
      "execution_count": null,
      "outputs": [
        {
          "output_type": "stream",
          "text": [
            "[*********************100%***********************]  2 of 2 completed\n"
          ],
          "name": "stdout"
        }
      ]
    },
    {
      "cell_type": "markdown",
      "metadata": {
        "id": "3gQK7P_lzX6Y"
      },
      "source": [
        "## Registros diarios (uno por día)\n",
        "Como se puede ver hay se tienen 2420 registros diarios del Bitcoin (desde el 2014 hasta la fecha):"
      ]
    },
    {
      "cell_type": "code",
      "metadata": {
        "colab": {
          "base_uri": "https://localhost:8080/",
          "height": 297
        },
        "id": "hXQKJIvgzLf6",
        "outputId": "9694d669-6232-40e2-cf96-ab6b5b917ee0"
      },
      "source": [
        "btc_usd.describe()"
      ],
      "execution_count": null,
      "outputs": [
        {
          "output_type": "execute_result",
          "data": {
            "text/html": [
              "<div>\n",
              "<style scoped>\n",
              "    .dataframe tbody tr th:only-of-type {\n",
              "        vertical-align: middle;\n",
              "    }\n",
              "\n",
              "    .dataframe tbody tr th {\n",
              "        vertical-align: top;\n",
              "    }\n",
              "\n",
              "    .dataframe thead th {\n",
              "        text-align: right;\n",
              "    }\n",
              "</style>\n",
              "<table border=\"1\" class=\"dataframe\">\n",
              "  <thead>\n",
              "    <tr style=\"text-align: right;\">\n",
              "      <th></th>\n",
              "      <th>Open</th>\n",
              "      <th>High</th>\n",
              "      <th>Low</th>\n",
              "      <th>Close</th>\n",
              "      <th>Adj Close</th>\n",
              "      <th>Volume</th>\n",
              "    </tr>\n",
              "  </thead>\n",
              "  <tbody>\n",
              "    <tr>\n",
              "      <th>count</th>\n",
              "      <td>2424.000000</td>\n",
              "      <td>2424.000000</td>\n",
              "      <td>2424.000000</td>\n",
              "      <td>2424.000000</td>\n",
              "      <td>2424.000000</td>\n",
              "      <td>2.424000e+03</td>\n",
              "    </tr>\n",
              "    <tr>\n",
              "      <th>mean</th>\n",
              "      <td>7264.383626</td>\n",
              "      <td>7467.329574</td>\n",
              "      <td>7053.783424</td>\n",
              "      <td>7286.774635</td>\n",
              "      <td>7286.774635</td>\n",
              "      <td>1.211044e+10</td>\n",
              "    </tr>\n",
              "    <tr>\n",
              "      <th>std</th>\n",
              "      <td>11168.437228</td>\n",
              "      <td>11510.882994</td>\n",
              "      <td>10801.951278</td>\n",
              "      <td>11211.832933</td>\n",
              "      <td>11211.832933</td>\n",
              "      <td>1.907698e+10</td>\n",
              "    </tr>\n",
              "    <tr>\n",
              "      <th>min</th>\n",
              "      <td>176.897003</td>\n",
              "      <td>211.731003</td>\n",
              "      <td>171.509995</td>\n",
              "      <td>178.102997</td>\n",
              "      <td>178.102997</td>\n",
              "      <td>5.914570e+06</td>\n",
              "    </tr>\n",
              "    <tr>\n",
              "      <th>25%</th>\n",
              "      <td>457.368492</td>\n",
              "      <td>462.603989</td>\n",
              "      <td>453.210510</td>\n",
              "      <td>457.509499</td>\n",
              "      <td>457.509499</td>\n",
              "      <td>6.820313e+07</td>\n",
              "    </tr>\n",
              "    <tr>\n",
              "      <th>50%</th>\n",
              "      <td>4170.250000</td>\n",
              "      <td>4316.177002</td>\n",
              "      <td>4061.894775</td>\n",
              "      <td>4178.330078</td>\n",
              "      <td>4178.330078</td>\n",
              "      <td>3.917430e+09</td>\n",
              "    </tr>\n",
              "    <tr>\n",
              "      <th>75%</th>\n",
              "      <td>9108.849854</td>\n",
              "      <td>9275.408203</td>\n",
              "      <td>8860.103027</td>\n",
              "      <td>9122.761963</td>\n",
              "      <td>9122.761963</td>\n",
              "      <td>1.810460e+10</td>\n",
              "    </tr>\n",
              "    <tr>\n",
              "      <th>max</th>\n",
              "      <td>63523.753906</td>\n",
              "      <td>64863.097656</td>\n",
              "      <td>62208.964844</td>\n",
              "      <td>63503.457031</td>\n",
              "      <td>63503.457031</td>\n",
              "      <td>3.509679e+11</td>\n",
              "    </tr>\n",
              "  </tbody>\n",
              "</table>\n",
              "</div>"
            ],
            "text/plain": [
              "               Open          High  ...     Adj Close        Volume\n",
              "count   2424.000000   2424.000000  ...   2424.000000  2.424000e+03\n",
              "mean    7264.383626   7467.329574  ...   7286.774635  1.211044e+10\n",
              "std    11168.437228  11510.882994  ...  11211.832933  1.907698e+10\n",
              "min      176.897003    211.731003  ...    178.102997  5.914570e+06\n",
              "25%      457.368492    462.603989  ...    457.509499  6.820313e+07\n",
              "50%     4170.250000   4316.177002  ...   4178.330078  3.917430e+09\n",
              "75%     9108.849854   9275.408203  ...   9122.761963  1.810460e+10\n",
              "max    63523.753906  64863.097656  ...  63503.457031  3.509679e+11\n",
              "\n",
              "[8 rows x 6 columns]"
            ]
          },
          "metadata": {
            "tags": []
          },
          "execution_count": 6
        }
      ]
    },
    {
      "cell_type": "markdown",
      "metadata": {
        "id": "rX9M-cRpVffm"
      },
      "source": [
        "## (Hiper)Parámetros para la red LSTM"
      ]
    },
    {
      "cell_type": "code",
      "metadata": {
        "id": "9WTwkSFEVfvL"
      },
      "source": [
        "#Data load params\n",
        "BATCH_SIZE = 256\n",
        "BUFFER_SIZE = 10000\n",
        "TRAIN_SPLIT = int(len(btc_usd)*0.8)\n",
        "#print(TRAIN_SPLIT)\n",
        "#print(type(TRAIN_SPLIT))\n",
        "#print(2424*0.8)\n",
        "\n",
        "#LSTM params\n",
        "EVALUATION_INTERNAL = 200\n",
        "EPOCHS = 4\n",
        "PATIENCE = 5\n",
        "\n",
        "#Seeding\n",
        "SEED = 13\n",
        "tf.random.set_seed(SEED)\n"
      ],
      "execution_count": 45,
      "outputs": []
    },
    {
      "cell_type": "markdown",
      "metadata": {
        "id": "m6dh_jA7F3m2"
      },
      "source": [
        "## Función de preparación de datos univariados de entrenamiento (*candidata a exportar*)"
      ]
    },
    {
      "cell_type": "code",
      "metadata": {
        "id": "mbHdJ7DsGyCi"
      },
      "source": [
        "def univariate_data(dataset, start_index, end_index, history_size, target_size):\n",
        "  ''' dataset: Array containing the whole time series (stadarized or not)\n",
        "      start_index: index from where data start to analize\n",
        "      end_index: final index to take data. None is to take all data\n",
        "      history_size: window size to create sequence (and then used to predict)\n",
        "      target_size: size of data to predict\n",
        "  '''\n",
        "  hist = [] #hist = history\n",
        "  targets = [] \n",
        "\n",
        "  start_index = start_index + history_size\n",
        "  if end_index is None:\n",
        "    end_index = len(dataset) - target_size\n",
        "\n",
        "  for i in range(start_index, end_index):\n",
        "    #window = window of time\n",
        "    window = range(i-history_size,i) #it balances the start_index = start_index + history_size made above\n",
        "    #print(window,i)\n",
        "    #print(window)\n",
        "    #Reshape hist from (history_size,) to (history_size,1)\n",
        "    hist.append(np.reshape(dataset[window], (history_size, 1))) #len(dataset[window]) = history_size\n",
        "    #print(hist)\n",
        "    targets.append(dataset[i+target_size-1])\n",
        "  return np.array(hist), np.array(targets)"
      ],
      "execution_count": 46,
      "outputs": []
    },
    {
      "cell_type": "markdown",
      "metadata": {
        "id": "1VWdI1hidlrH"
      },
      "source": [
        "Mirando como trabaja la función univariate_data haciendo una prueba:"
      ]
    },
    {
      "cell_type": "code",
      "metadata": {
        "id": "PJ4vJqGA2oFW"
      },
      "source": [
        "test = np.arange(0,10)\n",
        "#print(type(test))\n",
        "#print(test)\n",
        "#print(test[range(0,4)]) #equivalent to dataset[window]\n",
        "#print(np.reshape(test[range(0,4)], (4,1)))\n",
        "#print(test.shape[])\n",
        "#x,y = univariate_data(dataset=test, start_index=0, end_index=8, history_size=4,target_size=1)\n",
        "#print(x)\n",
        "#print(y)\n",
        "#a = range(-5,5)"
      ],
      "execution_count": 18,
      "outputs": []
    },
    {
      "cell_type": "markdown",
      "metadata": {
        "id": "TYz_7K_3WXZW"
      },
      "source": [
        "### Seleccionando los datos de la serie de tiempo a analizar"
      ]
    },
    {
      "cell_type": "code",
      "metadata": {
        "colab": {
          "base_uri": "https://localhost:8080/",
          "height": 520
        },
        "id": "7P6GdxixWYJo",
        "outputId": "a14893bf-4c7b-4115-ca8b-de0df907e14b"
      },
      "source": [
        "#Extrating data from data frame:\n",
        "uni_data = btc_usd['Adj Close']\n",
        "print(uni_data.head())\n",
        "\n",
        "#-----Indexing (If index is not 'Date'): I THINK IT IS NOT NECCESARY\n",
        "#print(uni_data.index)\n",
        "#uni_data.index = pd.to_datetime(uni_data.index,format='%Y-%m-%d')\n",
        "#print(uni_data.index)\n",
        "#uni_data.index = btc_usd['Date']\n",
        "#print(uni_data.head())\n",
        "\n",
        "#Plotting\n",
        "uni_data.plot()\n",
        "plt.show()\n",
        "\n",
        "#Extracting data as array\n",
        "uni_data = uni_data.values\n",
        "print(uni_data)"
      ],
      "execution_count": 47,
      "outputs": [
        {
          "output_type": "stream",
          "text": [
            "Date\n",
            "2014-09-17    457.334015\n",
            "2014-09-18    424.440002\n",
            "2014-09-19    394.795990\n",
            "2014-09-20    408.903992\n",
            "2014-09-21    398.821014\n",
            "Name: Adj Close, dtype: float64\n"
          ],
          "name": "stdout"
        },
        {
          "output_type": "display_data",
          "data": {
            "image/png": "[encoded data removed]",
            "text/plain": [
              "<Figure size 576x432 with 1 Axes>"
            ]
          },
          "metadata": {
            "tags": [],
            "needs_background": "light"
          }
        },
        {
          "output_type": "stream",
          "text": [
            "[  457.33401489   424.44000244   394.79598999 ... 58232.31640625\n",
            " 55859.796875   56128.421875  ]\n"
          ],
          "name": "stdout"
        }
      ]
    },
    {
      "cell_type": "markdown",
      "metadata": {
        "id": "SLl68JouX6vV"
      },
      "source": [
        "## Estandarización (Crear una función *Candidata a exportar*)"
      ]
    },
    {
      "cell_type": "code",
      "metadata": {
        "id": "IZnyvDXDX8Tg"
      },
      "source": [
        "uni_train_mean = uni_data[:TRAIN_SPLIT].mean()\n",
        "uni_train_std = uni_data[:TRAIN_SPLIT].std()\n",
        "#print(uni_train_mean)\n",
        "uni_data = (uni_data - uni_train_mean)/uni_train_std"
      ],
      "execution_count": 50,
      "outputs": []
    },
    {
      "cell_type": "markdown",
      "metadata": {
        "id": "NnS-mt_ze0DN"
      },
      "source": [
        "## Creando los datos para la predicción a 1 paso"
      ]
    },
    {
      "cell_type": "code",
      "metadata": {
        "colab": {
          "base_uri": "https://localhost:8080/"
        },
        "id": "P0DfWjDBe0ej",
        "outputId": "e0f8a8b2-6137-4e2e-9c1b-ad88edc193a7"
      },
      "source": [
        "#Defining history and target size\n",
        "uni_past_history = 20\n",
        "uni_future_target = 0 #I DONT KNOW WHY 0 AND NOT 1\n",
        "\n",
        "#Creating training data\n",
        "x_train_uni, y_train_uni = univariate_data(dataset = uni_data, start_index = 0, \n",
        "                                           end_index = TRAIN_SPLIT, history_size=uni_past_history,\n",
        "                                           target_size = uni_future_target)\n",
        "\n",
        "#Creating validation (for prediction) data\n",
        "x_val_uni, y_val_uni = univariate_data(dataset = uni_data, start_index = TRAIN_SPLIT,\n",
        "                                       end_index = None, history_size = uni_past_history,\n",
        "                                       target_size = uni_future_target)\n",
        "\n",
        "#Checking shape\n",
        "print(uni_data.shape)\n",
        "print(x_train_uni.shape)\n",
        "print(y_train_uni.shape)"
      ],
      "execution_count": 56,
      "outputs": [
        {
          "output_type": "stream",
          "text": [
            "(2425,)\n",
            "(1920, 20, 1)\n",
            "(1920,)\n"
          ],
          "name": "stdout"
        }
      ]
    },
    {
      "cell_type": "markdown",
      "metadata": {
        "id": "Gu7IGOF6inFV"
      },
      "source": [
        "## Modificando el formato de los datos para el uso de RNN-LSTM"
      ]
    },
    {
      "cell_type": "code",
      "metadata": {
        "id": "O20pINSGis68"
      },
      "source": [
        "train_univariate = tf.data.Dataset.from_tensor_slices((x_train_uni, y_train_uni))\n",
        "train_univariate = train_univariate.cache().shuffle()"
      ],
      "execution_count": null,
      "outputs": []
    },
    {
      "cell_type": "markdown",
      "metadata": {
        "id": "z_R1y9u4sWWU"
      },
      "source": [
        "Seleccionando las características (features): NO ANALIZADO AÚN"
      ]
    },
    {
      "cell_type": "code",
      "metadata": {
        "colab": {
          "base_uri": "https://localhost:8080/",
          "height": 690
        },
        "id": "6DC4Qc4-sVTf",
        "outputId": "c052e8c5-9b46-4b2d-8be6-d0a09ee9da8a"
      },
      "source": [
        "#Selecting features:\n",
        "features_considered = ['Open', 'High', 'Adj Close']\n",
        "features = btc_usd[features_considered]\n",
        "#print(type(features))\n",
        "print(features.head())\n",
        "print(features.index)\n",
        "\n",
        "#-----If index is not 'Date':\n",
        "#features.index = btc_usd['Date']\n",
        "#print(features.head())\n",
        "\n",
        "#Plotting\n",
        "features.plot(subplots=True)"
      ],
      "execution_count": 10,
      "outputs": [
        {
          "output_type": "stream",
          "text": [
            "                  Open        High   Adj Close\n",
            "Date                                          \n",
            "2014-09-17  465.864014  468.174011  457.334015\n",
            "2014-09-18  456.859985  456.859985  424.440002\n",
            "2014-09-19  424.102997  427.834991  394.795990\n",
            "2014-09-20  394.673004  423.295990  408.903992\n",
            "2014-09-21  408.084991  412.425995  398.821014\n",
            "DatetimeIndex(['2014-09-17', '2014-09-18', '2014-09-19', '2014-09-20',\n",
            "               '2014-09-21', '2014-09-22', '2014-09-23', '2014-09-24',\n",
            "               '2014-09-25', '2014-09-26',\n",
            "               ...\n",
            "               '2021-05-02', '2021-05-03', '2021-05-04', '2021-05-05',\n",
            "               '2021-05-06', '2021-05-07', '2021-05-08', '2021-05-09',\n",
            "               '2021-05-10', '2021-05-11'],\n",
            "              dtype='datetime64[ns]', name='Date', length=2425, freq=None)\n"
          ],
          "name": "stdout"
        },
        {
          "output_type": "execute_result",
          "data": {
            "text/plain": [
              "array([<matplotlib.axes._subplots.AxesSubplot object at 0x7fdc85c66d10>,\n",
              "       <matplotlib.axes._subplots.AxesSubplot object at 0x7fdc85c25b10>,\n",
              "       <matplotlib.axes._subplots.AxesSubplot object at 0x7fdc85c66910>],\n",
              "      dtype=object)"
            ]
          },
          "metadata": {
            "tags": []
          },
          "execution_count": 10
        },
        {
          "output_type": "display_data",
          "data": {
            "image/png": "[encoded data removed]",
            "text/plain": [
              "<Figure size 576x432 with 3 Axes>"
            ]
          },
          "metadata": {
            "tags": [],
            "needs_background": "light"
          }
        }
      ]
    },
    {
      "cell_type": "code",
      "metadata": {
        "colab": {
          "base_uri": "https://localhost:8080/",
          "height": 351
        },
        "id": "tELZz6RAxKzX",
        "outputId": "cb18eca3-5bfe-4798-a1f3-d03d0547d552"
      },
      "source": [
        "\n"
      ],
      "execution_count": 15,
      "outputs": [
        {
          "output_type": "stream",
          "text": [
            "<class 'numpy.ndarray'>\n",
            "[[  465.86401367   468.17401123   457.33401489]\n",
            " [  456.85998535   456.85998535   424.44000244]\n",
            " [  424.10299683   427.83499146   394.79598999]\n",
            " ...\n",
            " [58877.390625   59210.8828125  58232.31640625]\n",
            " [58250.87109375 59519.35546875 55859.796875  ]\n",
            " [55665.359375   56385.7265625  55909.1640625 ]]\n"
          ],
          "name": "stdout"
        },
        {
          "output_type": "error",
          "ename": "TypeError",
          "evalue": "ignored",
          "traceback": [
            "\u001b[0;31m---------------------------------------------------------------------------\u001b[0m",
            "\u001b[0;31mTypeError\u001b[0m                                 Traceback (most recent call last)",
            "\u001b[0;32m<ipython-input-15-efb8b5172141>\u001b[0m in \u001b[0;36m<module>\u001b[0;34m()\u001b[0m\n\u001b[1;32m      9\u001b[0m \u001b[0mprint\u001b[0m\u001b[0;34m(\u001b[0m\u001b[0mtype\u001b[0m\u001b[0;34m(\u001b[0m\u001b[0mdataset_btc\u001b[0m\u001b[0;34m)\u001b[0m\u001b[0;34m)\u001b[0m\u001b[0;34m\u001b[0m\u001b[0;34m\u001b[0m\u001b[0m\n\u001b[1;32m     10\u001b[0m \u001b[0mprint\u001b[0m\u001b[0;34m(\u001b[0m\u001b[0mdataset_btc\u001b[0m\u001b[0;34m)\u001b[0m\u001b[0;34m\u001b[0m\u001b[0;34m\u001b[0m\u001b[0m\n\u001b[0;32m---> 11\u001b[0;31m \u001b[0mbtc_mean\u001b[0m \u001b[0;34m=\u001b[0m \u001b[0mdataset_btc\u001b[0m\u001b[0;34m[\u001b[0m\u001b[0;34m:\u001b[0m\u001b[0mTRAIN_SPLIT\u001b[0m\u001b[0;34m]\u001b[0m\u001b[0;34m.\u001b[0m\u001b[0mmean\u001b[0m\u001b[0;34m(\u001b[0m\u001b[0;34m)\u001b[0m\u001b[0;34m\u001b[0m\u001b[0;34m\u001b[0m\u001b[0m\n\u001b[0m\u001b[1;32m     12\u001b[0m \u001b[0mprint\u001b[0m\u001b[0;34m(\u001b[0m\u001b[0mbtc_mean\u001b[0m\u001b[0;34m)\u001b[0m\u001b[0;34m\u001b[0m\u001b[0;34m\u001b[0m\u001b[0m\n",
            "\u001b[0;31mTypeError\u001b[0m: slice indices must be integers or None or have an __index__ method"
          ]
        }
      ]
    },
    {
      "cell_type": "markdown",
      "metadata": {
        "id": "jgTKJPeHtj1P"
      },
      "source": [
        "ddd"
      ]
    },
    {
      "cell_type": "code",
      "metadata": {
        "id": "Nfi7zMzTtoLr"
      },
      "source": [
        "dataset ="
      ],
      "execution_count": null,
      "outputs": []
    },
    {
      "cell_type": "markdown",
      "metadata": {
        "id": "4UlVy1MDuOQ5"
      },
      "source": [
        "Standarized"
      ]
    },
    {
      "cell_type": "code",
      "metadata": {
        "id": "5jtionwGuQWp"
      },
      "source": [
        ""
      ],
      "execution_count": null,
      "outputs": []
    },
    {
      "cell_type": "markdown",
      "metadata": {
        "id": "z0T68Nx_2sJq"
      },
      "source": [
        "## Cosas pendientes:\n",
        "1. Uso de redes LSTM (unidimensional) para hacer predicción 1 paso y multipaso.\n",
        "2. Detección de series correlacionadas.\n",
        "3. Analizar otras series (S&P500, JPMorgan, Gold, Apple, etc.)\n",
        "4. Uso de redes LSTM (multidimensional) para hacer predicción 1 paso y multipaso."
      ]
    },
    {
      "cell_type": "markdown",
      "metadata": {
        "id": "W8f07OPfgOxI"
      },
      "source": [
        "## Bibliografía\n",
        "\n",
        "### Redes RNN-LSTM (cuaderno).\n",
        "1. [Introducción a Keras LSTM para series de tiempo multivariadas. Montenegro et.al.](https://nbviewer.jupyter.org/github/AprendizajeProfundo/Diplomado/blob/master/Temas/M%C3%B3dulo%205-%20Redes%20recurrentes/Cuadernos/rnrTimes_series_Multivariate.ipynb).\n",
        "1. A. [Notebook community: Time series forecasting (Ori. English)](https://notebook.community/tensorflow/docs-l10n/site/en-snapshot/tutorials/structured_data/time_series).\n",
        "1. B. [Keras Timeseries Multi-Step Multi-Output](https://www.kaggle.com/nicapotato/keras-timeseries-multi-step-multi-output).\n",
        "\n",
        "### Yahoo Finance (datos importados).\n",
        "2. [Yahoo Finance API – A Complete Guide](https://algotrading101.com/learn/yahoo-finance-api-guide/)\n",
        "3. [yfinance Library – A Complete Guide](https://algotrading101.com/learn/yfinance-guide/)\n",
        "4. [yfinance documentation](https://pypi.org/project/yfinance/)\n",
        "\n",
        "### Cuadernos de referencia.\n",
        "5. [Predicción de acciones usando análisis multivariado (repo)\n",
        "](https://github.com/ninja3697/Stocks-Price-Prediction-using-Multivariate-Analysis). \n",
        "6. [Serie de tiempo multivariadas para predicción de precios en Python](https://www.relataly.com/stock-market-prediction-with-multivariate-time-series-in-python/1815/). \n",
        "7. [Conversión de datos (clima)](https://machinelearningmastery.com/convert-time-series-supervised-learning-problem-python/).\n",
        "8. [Predicción en series de tiempo multivariadas (clima)](https://machinelearningmastery.com/multivariate-time-series-forecasting-lstms-keras/).\n",
        "### Libro\n",
        "9. [François Chollet - Deep Learning with Python](https://b-ok.lat/s/Deep%20Learning%20with%20Python%20Fran%C3%A7ois%20Chollet).\n",
        "### Artículo\n",
        "10. [Stock Price Prediction Using CONVOLUTIONAL Neural Networks on a Multivariate Timeseries. Article](https://www.researchgate.net/publication/338477393_Stock_Price_Prediction_Using_Convolutional_Neural_Networks_on_a_Multivariate_Timeseries). \n",
        "[]().\n"
      ]
    },
    {
      "cell_type": "markdown",
      "metadata": {
        "id": "VNK29ket7jhI"
      },
      "source": [
        "##Links sobre criptomonedas (bitcoin especialmente)\n",
        "https://unperiodico.unal.edu.co/pages/detail/criptomonedas-una-herramienta-riesgosa-pero-de-uso-inminente/\n",
        "\n",
        "https://repositorio.udesa.edu.ar/jspui/bitstream/10908/16022/1/%5BP%5D%5BW%5D%20T.%20M.%20AyPP.%20Lojo%20M%C3%A1rquez%2C%20Tamara%20In%C3%A9s.pdf  (cap2 c, cap3 ii, cap4)\n",
        "\n",
        "https://www.daviescoin.io/es/blog/que-determina-el-valor-de-las-criptomonedas\n",
        "\n",
        "https://www.tekcrispy.com/2018/05/16/que-determina-precio-criptomonedas/\n",
        "\n",
        "https://repositorio.uniagustiniana.edu.co/bitstream/handle/123456789/845/HurtadoCuellar-AngieDaniela-2019.pdf.pdf?sequence=1 (cap7)\n"
      ]
    }
  ]
}