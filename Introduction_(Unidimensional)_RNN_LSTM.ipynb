{
  "nbformat": 4,
  "nbformat_minor": 0,
  "metadata": {
    "colab": {
      "name": "Introduction (Unidimensional) RNN-LSTM.ipynb",
      "provenance": []
    },
    "kernelspec": {
      "name": "python3",
      "display_name": "Python 3"
    },
    "language_info": {
      "name": "python"
    },
    "accelerator": "GPU"
  },
  "cells": [
    {
      "cell_type": "markdown",
      "metadata": {
        "id": "S5ODv4lIf5e2"
      },
      "source": [
        "# Introducción a las redes RNN-LSTM \n",
        "### Análisis unidimensional de series de tiempo (1 paso)"
      ]
    },
    {
      "cell_type": "markdown",
      "metadata": {
        "id": "8-b4i7Kgf1_P"
      },
      "source": [
        "## Contenido\n",
        "### 1. Instalando 'yfinance' y usándolo para importar datos del Bitcoin (utilizando Ticker y get_data_yahoo).\n",
        "### 2. Prueba para importar múltiples datos (opcional).\n",
        "### 3. Creación y explicación de la función \"univariate_data()\" para la preparación de datos."
      ]
    },
    {
      "cell_type": "code",
      "metadata": {
        "id": "Mi-GImgCbJzF"
      },
      "source": [
        "#Source: https://towardsdatascience.com/10-tips-for-a-better-google-colab-experience-33f8fe721b82#0d57\n",
        "#Stop Colab from disconecting:\n",
        "#ctl+shift+i -> console -> command lines:\n",
        "function KeepClicking(){\n",
        "console.log(\"Clicking\");\n",
        "document.querySelector(\"colab-connect-button\").click()\n",
        "}\n",
        "setInterval(KeepClicking,60000)"
      ],
      "execution_count": null,
      "outputs": []
    },
    {
      "cell_type": "markdown",
      "metadata": {
        "id": "9crszX8z13Mb"
      },
      "source": [
        "### *Importando paquetes:*"
      ]
    },
    {
      "cell_type": "code",
      "metadata": {
        "id": "wQ4LI39uftQY",
        "colab": {
          "base_uri": "https://localhost:8080/"
        },
        "outputId": "5d6a5028-70b0-494c-bfc6-c41374c68bd8"
      },
      "source": [
        "#To import data\n",
        "!pip install pandas_datareader #For COLAB\n",
        "import pandas_datareader.data as web\n",
        "#Data managing\n",
        "import numpy as np\n",
        "import os\n",
        "import pandas as pd\n",
        "#Graphics\n",
        "import matplotlib as mpl\n",
        "import matplotlib.pyplot as plt\n",
        "#RNN\n",
        "import tensorflow as tf\n",
        "from tensorflow.keras.callbacks import CSVLogger, EarlyStopping\n",
        "\n",
        "#I dont know for what are these packages\n",
        "import seaborn as sns\n",
        "import time\n",
        "import gc\n",
        "import sys\n",
        "\n",
        "print(f\"Tensorflow Version: {tf.__version__}\")\n",
        "print(f\"Pandas Version: {pd.__version__}\")\n",
        "print(f\"Numpy Version: {np.__version__}\")\n",
        "print(f\"System Version: {sys.version}\")\n",
        "\n",
        "#Setting figure size\n",
        "mpl.rcParams['figure.figsize'] = (8,6)\n",
        "mpl.rcParams['axes.grid'] = False"
      ],
      "execution_count": 3,
      "outputs": [
        {
          "output_type": "stream",
          "text": [
            "Requirement already satisfied: pandas_datareader in /usr/local/lib/python3.7/dist-packages (0.9.0)\n",
            "Requirement already satisfied: pandas>=0.23 in /usr/local/lib/python3.7/dist-packages (from pandas_datareader) (1.1.5)\n",
            "Requirement already satisfied: requests>=2.19.0 in /usr/local/lib/python3.7/dist-packages (from pandas_datareader) (2.23.0)\n",
            "Requirement already satisfied: lxml in /usr/local/lib/python3.7/dist-packages (from pandas_datareader) (4.2.6)\n",
            "Requirement already satisfied: numpy>=1.15.4 in /usr/local/lib/python3.7/dist-packages (from pandas>=0.23->pandas_datareader) (1.19.5)\n",
            "Requirement already satisfied: pytz>=2017.2 in /usr/local/lib/python3.7/dist-packages (from pandas>=0.23->pandas_datareader) (2018.9)\n",
            "Requirement already satisfied: python-dateutil>=2.7.3 in /usr/local/lib/python3.7/dist-packages (from pandas>=0.23->pandas_datareader) (2.8.1)\n",
            "Requirement already satisfied: idna<3,>=2.5 in /usr/local/lib/python3.7/dist-packages (from requests>=2.19.0->pandas_datareader) (2.10)\n",
            "Requirement already satisfied: chardet<4,>=3.0.2 in /usr/local/lib/python3.7/dist-packages (from requests>=2.19.0->pandas_datareader) (3.0.4)\n",
            "Requirement already satisfied: certifi>=2017.4.17 in /usr/local/lib/python3.7/dist-packages (from requests>=2.19.0->pandas_datareader) (2020.12.5)\n",
            "Requirement already satisfied: urllib3!=1.25.0,!=1.25.1,<1.26,>=1.21.1 in /usr/local/lib/python3.7/dist-packages (from requests>=2.19.0->pandas_datareader) (1.24.3)\n",
            "Requirement already satisfied: six>=1.5 in /usr/local/lib/python3.7/dist-packages (from python-dateutil>=2.7.3->pandas>=0.23->pandas_datareader) (1.15.0)\n",
            "Tensorflow Version: 2.4.1\n",
            "Pandas Version: 1.1.5\n",
            "Numpy Version: 1.19.5\n",
            "System Version: 3.7.10 (default, May  3 2021, 02:48:31) \n",
            "[GCC 7.5.0]\n"
          ],
          "name": "stdout"
        }
      ]
    },
    {
      "cell_type": "markdown",
      "metadata": {
        "id": "DJBGjtdB7DPl"
      },
      "source": [
        "\n",
        "\n",
        "### *Instalando yfinance:*"
      ]
    },
    {
      "cell_type": "code",
      "metadata": {
        "colab": {
          "base_uri": "https://localhost:8080/"
        },
        "id": "7_rERmxi7P5Z",
        "outputId": "5c1affc2-583f-4605-cf1e-fec503e1ac71"
      },
      "source": [
        "#DEL (in my opinion, it's better use this library)\n",
        "#installing yfinance (Colab)\n",
        "!pip install yfinance\n",
        "#pip install yfinance --upgrade --no-cache-dir"
      ],
      "execution_count": null,
      "outputs": [
        {
          "output_type": "stream",
          "text": [
            "Collecting yfinance\n",
            "  Downloading https://files.pythonhosted.org/packages/a7/ee/315752b9ef281ba83c62aa7ec2e2074f85223da6e7e74efb4d3e11c0f510/yfinance-0.1.59.tar.gz\n",
            "Requirement already satisfied: pandas>=0.24 in /usr/local/lib/python3.7/dist-packages (from yfinance) (1.1.5)\n",
            "Requirement already satisfied: numpy>=1.15 in /usr/local/lib/python3.7/dist-packages (from yfinance) (1.19.5)\n",
            "Requirement already satisfied: requests>=2.20 in /usr/local/lib/python3.7/dist-packages (from yfinance) (2.23.0)\n",
            "Requirement already satisfied: multitasking>=0.0.7 in /usr/local/lib/python3.7/dist-packages (from yfinance) (0.0.9)\n",
            "Collecting lxml>=4.5.1\n",
            "\u001b[?25l  Downloading https://files.pythonhosted.org/packages/30/c0/d0526314971fc661b083ab135747dc68446a3022686da8c16d25fcf6ef07/lxml-4.6.3-cp37-cp37m-manylinux2014_x86_64.whl (6.3MB)\n",
            "\u001b[K     |████████████████████████████████| 6.3MB 13.1MB/s \n",
            "\u001b[?25hRequirement already satisfied: pytz>=2017.2 in /usr/local/lib/python3.7/dist-packages (from pandas>=0.24->yfinance) (2018.9)\n",
            "Requirement already satisfied: python-dateutil>=2.7.3 in /usr/local/lib/python3.7/dist-packages (from pandas>=0.24->yfinance) (2.8.1)\n",
            "Requirement already satisfied: chardet<4,>=3.0.2 in /usr/local/lib/python3.7/dist-packages (from requests>=2.20->yfinance) (3.0.4)\n",
            "Requirement already satisfied: certifi>=2017.4.17 in /usr/local/lib/python3.7/dist-packages (from requests>=2.20->yfinance) (2020.12.5)\n",
            "Requirement already satisfied: idna<3,>=2.5 in /usr/local/lib/python3.7/dist-packages (from requests>=2.20->yfinance) (2.10)\n",
            "Requirement already satisfied: urllib3!=1.25.0,!=1.25.1,<1.26,>=1.21.1 in /usr/local/lib/python3.7/dist-packages (from requests>=2.20->yfinance) (1.24.3)\n",
            "Requirement already satisfied: six>=1.5 in /usr/local/lib/python3.7/dist-packages (from python-dateutil>=2.7.3->pandas>=0.24->yfinance) (1.15.0)\n",
            "Building wheels for collected packages: yfinance\n",
            "  Building wheel for yfinance (setup.py) ... \u001b[?25l\u001b[?25hdone\n",
            "  Created wheel for yfinance: filename=yfinance-0.1.59-py2.py3-none-any.whl size=23442 sha256=837d6c375c78518e36a61bb69c3b82ab4d74a58c7316642ea7277d30771f0fae\n",
            "  Stored in directory: /root/.cache/pip/wheels/f8/2a/0f/4b5a86e1d52e451757eb6bc17fd899629f0925c777741b6d04\n",
            "Successfully built yfinance\n",
            "Installing collected packages: lxml, yfinance\n",
            "  Found existing installation: lxml 4.2.6\n",
            "    Uninstalling lxml-4.2.6:\n",
            "      Successfully uninstalled lxml-4.2.6\n",
            "Successfully installed lxml-4.6.3 yfinance-0.1.59\n"
          ],
          "name": "stdout"
        }
      ]
    },
    {
      "cell_type": "markdown",
      "metadata": {
        "id": "wDhH3UI4yxcV"
      },
      "source": [
        "### *Importando y visualizando datos del bitcoin:*\n"
      ]
    },
    {
      "cell_type": "code",
      "metadata": {
        "colab": {
          "base_uri": "https://localhost:8080/",
          "height": 235
        },
        "id": "qbHpGcyUpB8Z",
        "outputId": "82f89b91-b392-4cbf-fe80-feb3c38b1c09"
      },
      "source": [
        "#Univariate time series\n",
        "btc_usd = web.DataReader(\"BTC-USD\", 'yahoo')\n",
        "#print(type(btc_usd))\n",
        "btc_usd.head()\n",
        "#btc_usd.sort_index(ascending=False).head()\n",
        "\n",
        "#NOTE: Check that index is date by default"
      ],
      "execution_count": 4,
      "outputs": [
        {
          "output_type": "execute_result",
          "data": {
            "text/html": [
              "<div>\n",
              "<style scoped>\n",
              "    .dataframe tbody tr th:only-of-type {\n",
              "        vertical-align: middle;\n",
              "    }\n",
              "\n",
              "    .dataframe tbody tr th {\n",
              "        vertical-align: top;\n",
              "    }\n",
              "\n",
              "    .dataframe thead th {\n",
              "        text-align: right;\n",
              "    }\n",
              "</style>\n",
              "<table border=\"1\" class=\"dataframe\">\n",
              "  <thead>\n",
              "    <tr style=\"text-align: right;\">\n",
              "      <th></th>\n",
              "      <th>High</th>\n",
              "      <th>Low</th>\n",
              "      <th>Open</th>\n",
              "      <th>Close</th>\n",
              "      <th>Volume</th>\n",
              "      <th>Adj Close</th>\n",
              "    </tr>\n",
              "    <tr>\n",
              "      <th>Date</th>\n",
              "      <th></th>\n",
              "      <th></th>\n",
              "      <th></th>\n",
              "      <th></th>\n",
              "      <th></th>\n",
              "      <th></th>\n",
              "    </tr>\n",
              "  </thead>\n",
              "  <tbody>\n",
              "    <tr>\n",
              "      <th>2016-05-24</th>\n",
              "      <td>450.298004</td>\n",
              "      <td>446.062012</td>\n",
              "      <td>446.062012</td>\n",
              "      <td>449.598999</td>\n",
              "      <td>65231000.0</td>\n",
              "      <td>449.598999</td>\n",
              "    </tr>\n",
              "    <tr>\n",
              "      <th>2016-05-25</th>\n",
              "      <td>453.644012</td>\n",
              "      <td>447.895996</td>\n",
              "      <td>449.671997</td>\n",
              "      <td>453.384003</td>\n",
              "      <td>65203800.0</td>\n",
              "      <td>453.384003</td>\n",
              "    </tr>\n",
              "    <tr>\n",
              "      <th>2016-05-26</th>\n",
              "      <td>478.148987</td>\n",
              "      <td>453.520996</td>\n",
              "      <td>453.520996</td>\n",
              "      <td>473.463989</td>\n",
              "      <td>164780992.0</td>\n",
              "      <td>473.463989</td>\n",
              "    </tr>\n",
              "    <tr>\n",
              "      <th>2016-05-27</th>\n",
              "      <td>533.473022</td>\n",
              "      <td>472.699005</td>\n",
              "      <td>473.028992</td>\n",
              "      <td>530.039978</td>\n",
              "      <td>181199008.0</td>\n",
              "      <td>530.039978</td>\n",
              "    </tr>\n",
              "    <tr>\n",
              "      <th>2016-05-28</th>\n",
              "      <td>553.960022</td>\n",
              "      <td>512.179016</td>\n",
              "      <td>527.476990</td>\n",
              "      <td>526.232971</td>\n",
              "      <td>148736992.0</td>\n",
              "      <td>526.232971</td>\n",
              "    </tr>\n",
              "  </tbody>\n",
              "</table>\n",
              "</div>"
            ],
            "text/plain": [
              "                  High         Low  ...       Volume   Adj Close\n",
              "Date                                ...                         \n",
              "2016-05-24  450.298004  446.062012  ...   65231000.0  449.598999\n",
              "2016-05-25  453.644012  447.895996  ...   65203800.0  453.384003\n",
              "2016-05-26  478.148987  453.520996  ...  164780992.0  473.463989\n",
              "2016-05-27  533.473022  472.699005  ...  181199008.0  530.039978\n",
              "2016-05-28  553.960022  512.179016  ...  148736992.0  526.232971\n",
              "\n",
              "[5 rows x 6 columns]"
            ]
          },
          "metadata": {
            "tags": []
          },
          "execution_count": 4
        }
      ]
    },
    {
      "cell_type": "markdown",
      "metadata": {
        "id": "LqZMmGwctMf1"
      },
      "source": [
        "## (Opcional):\n",
        "La siguiente celda se puede omitir pues solo muestra la aplicación de unos métodos para series de tiempo univariadas (usando Ticker) y como importar series de tiempo multivariadas:"
      ]
    },
    {
      "cell_type": "code",
      "metadata": {
        "colab": {
          "base_uri": "https://localhost:8080/"
        },
        "id": "ZhUeAZCk2nur",
        "outputId": "4496ac89-d05e-4868-eb42-41e9c9f53889"
      },
      "source": [
        "###NOTE: minimum interval: 1 minute\n",
        "#------------------------\n",
        "#Univariate time series\n",
        "#------------------------\n",
        "btc_usd_T = yf.Ticker(\"BTC-USD\")\n",
        "#type(btc_usd)\n",
        "#Exploring some methods\n",
        "#btc_usd.info\n",
        "#btc_usd.actions\n",
        "#btc_usd.financials\n",
        "#btc_usd.history(period=\"max\")\n",
        "#btc_usd.calendar\n",
        "#### valid periods: 1d,5d,1mo,3mo,6mo,1y,2y,5y,10y,ytd,max\n",
        "# valid intervals: 1m,2m,5m,15m,30m,60m,90m,1h,1d,5d,1wk,1mo,3mo\n",
        "#btc_usd.history(period=\"2d\",interval=\"1m\") \n",
        "\n",
        "#-------------------------\n",
        "#Multivariate time series\n",
        "#-------------------------\n",
        "\n",
        "#Several time series\n",
        "starDate=\"2017-01-01\" #year-month-day\n",
        "endDate=\"2017-04-30\"\n",
        "data = web.DataReader(\"BTC-USD ETH-USD\", start=starDate, end=endDate)\n",
        "print(data)\n",
        "#print(data[\"Adj Close\"])\n",
        "#print(type(data[\"Adj Close\"][\"BTC-USD\"]))\n",
        "#print(data[\"Adj Close\"][\"BTC-USD\"])\n",
        "#dataTickers = yf.Tickers('BTC-USD ETH-USD')\n",
        "#print(dataTickers.tickers[\"BTC-USD\"].info)\n",
        "#print(dataTickers.tickers[\"ETH-USD\"].history(period=\"1mo\"))"
      ],
      "execution_count": null,
      "outputs": [
        {
          "output_type": "stream",
          "text": [
            "[*********************100%***********************]  2 of 2 completed\n"
          ],
          "name": "stdout"
        }
      ]
    },
    {
      "cell_type": "markdown",
      "metadata": {
        "id": "jf8PNQHotEE8"
      },
      "source": [
        "## (Opcional):\n",
        "En caso de presentar problemas importando los datos con 'web.DataReader()' se pueden usar los siguientes métodos:"
      ]
    },
    {
      "cell_type": "code",
      "metadata": {
        "colab": {
          "base_uri": "https://localhost:8080/",
          "height": 269
        },
        "id": "Ej4UQGdIYWrx",
        "outputId": "28f8fc87-d6b2-45eb-d9b4-a868ea93b1df"
      },
      "source": [
        "#DEL\n",
        "import yfinance as yf\n",
        "\n",
        "from pandas_datareader import data as pdr\n",
        "\n",
        "yf.pdr_override() # <== that's all it takes :-)\n",
        "\n",
        "#Univariate time series\n",
        "#One way - get_data_yahoo:\n",
        "btc_usd = pdr.get_data_yahoo(\"BTC-USD\")\n",
        "print(type(btc_usd))\n",
        "btc_usd.head()\n",
        "#btc_usd.sort_index(ascending=False).head()\n",
        "\n"
      ],
      "execution_count": null,
      "outputs": [
        {
          "output_type": "stream",
          "text": [
            "\r[*********************100%***********************]  1 of 1 completed\n",
            "<class 'pandas.core.frame.DataFrame'>\n"
          ],
          "name": "stdout"
        },
        {
          "output_type": "execute_result",
          "data": {
            "text/html": [
              "<div>\n",
              "<style scoped>\n",
              "    .dataframe tbody tr th:only-of-type {\n",
              "        vertical-align: middle;\n",
              "    }\n",
              "\n",
              "    .dataframe tbody tr th {\n",
              "        vertical-align: top;\n",
              "    }\n",
              "\n",
              "    .dataframe thead th {\n",
              "        text-align: right;\n",
              "    }\n",
              "</style>\n",
              "<table border=\"1\" class=\"dataframe\">\n",
              "  <thead>\n",
              "    <tr style=\"text-align: right;\">\n",
              "      <th></th>\n",
              "      <th>Open</th>\n",
              "      <th>High</th>\n",
              "      <th>Low</th>\n",
              "      <th>Close</th>\n",
              "      <th>Adj Close</th>\n",
              "      <th>Volume</th>\n",
              "    </tr>\n",
              "    <tr>\n",
              "      <th>Date</th>\n",
              "      <th></th>\n",
              "      <th></th>\n",
              "      <th></th>\n",
              "      <th></th>\n",
              "      <th></th>\n",
              "      <th></th>\n",
              "    </tr>\n",
              "  </thead>\n",
              "  <tbody>\n",
              "    <tr>\n",
              "      <th>2014-09-17</th>\n",
              "      <td>465.864014</td>\n",
              "      <td>468.174011</td>\n",
              "      <td>452.421997</td>\n",
              "      <td>457.334015</td>\n",
              "      <td>457.334015</td>\n",
              "      <td>21056800</td>\n",
              "    </tr>\n",
              "    <tr>\n",
              "      <th>2014-09-18</th>\n",
              "      <td>456.859985</td>\n",
              "      <td>456.859985</td>\n",
              "      <td>413.104004</td>\n",
              "      <td>424.440002</td>\n",
              "      <td>424.440002</td>\n",
              "      <td>34483200</td>\n",
              "    </tr>\n",
              "    <tr>\n",
              "      <th>2014-09-19</th>\n",
              "      <td>424.102997</td>\n",
              "      <td>427.834991</td>\n",
              "      <td>384.532013</td>\n",
              "      <td>394.795990</td>\n",
              "      <td>394.795990</td>\n",
              "      <td>37919700</td>\n",
              "    </tr>\n",
              "    <tr>\n",
              "      <th>2014-09-20</th>\n",
              "      <td>394.673004</td>\n",
              "      <td>423.295990</td>\n",
              "      <td>389.882996</td>\n",
              "      <td>408.903992</td>\n",
              "      <td>408.903992</td>\n",
              "      <td>36863600</td>\n",
              "    </tr>\n",
              "    <tr>\n",
              "      <th>2014-09-21</th>\n",
              "      <td>408.084991</td>\n",
              "      <td>412.425995</td>\n",
              "      <td>393.181000</td>\n",
              "      <td>398.821014</td>\n",
              "      <td>398.821014</td>\n",
              "      <td>26580100</td>\n",
              "    </tr>\n",
              "  </tbody>\n",
              "</table>\n",
              "</div>"
            ],
            "text/plain": [
              "                  Open        High  ...   Adj Close    Volume\n",
              "Date                                ...                      \n",
              "2014-09-17  465.864014  468.174011  ...  457.334015  21056800\n",
              "2014-09-18  456.859985  456.859985  ...  424.440002  34483200\n",
              "2014-09-19  424.102997  427.834991  ...  394.795990  37919700\n",
              "2014-09-20  394.673004  423.295990  ...  408.903992  36863600\n",
              "2014-09-21  408.084991  412.425995  ...  398.821014  26580100\n",
              "\n",
              "[5 rows x 6 columns]"
            ]
          },
          "metadata": {
            "tags": []
          },
          "execution_count": 8
        }
      ]
    },
    {
      "cell_type": "markdown",
      "metadata": {
        "id": "3gQK7P_lzX6Y"
      },
      "source": [
        "## Registros diarios (uno por día)\n",
        "Como se puede ver hay se tienen 2420 registros diarios del Bitcoin (desde el 2014 hasta la fecha):"
      ]
    },
    {
      "cell_type": "code",
      "metadata": {
        "colab": {
          "base_uri": "https://localhost:8080/",
          "height": 297
        },
        "id": "hXQKJIvgzLf6",
        "outputId": "10b5a90a-ea02-4717-c6a0-8ce4db31bab3"
      },
      "source": [
        "btc_usd.describe()"
      ],
      "execution_count": 3,
      "outputs": [
        {
          "output_type": "execute_result",
          "data": {
            "text/html": [
              "<div>\n",
              "<style scoped>\n",
              "    .dataframe tbody tr th:only-of-type {\n",
              "        vertical-align: middle;\n",
              "    }\n",
              "\n",
              "    .dataframe tbody tr th {\n",
              "        vertical-align: top;\n",
              "    }\n",
              "\n",
              "    .dataframe thead th {\n",
              "        text-align: right;\n",
              "    }\n",
              "</style>\n",
              "<table border=\"1\" class=\"dataframe\">\n",
              "  <thead>\n",
              "    <tr style=\"text-align: right;\">\n",
              "      <th></th>\n",
              "      <th>High</th>\n",
              "      <th>Low</th>\n",
              "      <th>Open</th>\n",
              "      <th>Close</th>\n",
              "      <th>Volume</th>\n",
              "      <th>Adj Close</th>\n",
              "    </tr>\n",
              "  </thead>\n",
              "  <tbody>\n",
              "    <tr>\n",
              "      <th>count</th>\n",
              "      <td>1822.000000</td>\n",
              "      <td>1822.000000</td>\n",
              "      <td>1822.000000</td>\n",
              "      <td>1822.000000</td>\n",
              "      <td>1.822000e+03</td>\n",
              "      <td>1822.000000</td>\n",
              "    </tr>\n",
              "    <tr>\n",
              "      <th>mean</th>\n",
              "      <td>10181.950133</td>\n",
              "      <td>9591.075708</td>\n",
              "      <td>9900.391754</td>\n",
              "      <td>9919.159832</td>\n",
              "      <td>1.668504e+10</td>\n",
              "      <td>9919.159832</td>\n",
              "    </tr>\n",
              "    <tr>\n",
              "      <th>std</th>\n",
              "      <td>12799.482194</td>\n",
              "      <td>11942.450560</td>\n",
              "      <td>12408.299505</td>\n",
              "      <td>12420.532163</td>\n",
              "      <td>2.117508e+10</td>\n",
              "      <td>12420.532163</td>\n",
              "    </tr>\n",
              "    <tr>\n",
              "      <th>min</th>\n",
              "      <td>450.298004</td>\n",
              "      <td>446.062012</td>\n",
              "      <td>446.062012</td>\n",
              "      <td>449.598999</td>\n",
              "      <td>3.397780e+07</td>\n",
              "      <td>449.598999</td>\n",
              "    </tr>\n",
              "    <tr>\n",
              "      <th>25%</th>\n",
              "      <td>3507.680176</td>\n",
              "      <td>3395.305237</td>\n",
              "      <td>3462.213257</td>\n",
              "      <td>3464.599426</td>\n",
              "      <td>1.689300e+09</td>\n",
              "      <td>3464.599426</td>\n",
              "    </tr>\n",
              "    <tr>\n",
              "      <th>50%</th>\n",
              "      <td>7344.426270</td>\n",
              "      <td>7005.125000</td>\n",
              "      <td>7190.384277</td>\n",
              "      <td>7196.886719</td>\n",
              "      <td>7.687134e+09</td>\n",
              "      <td>7196.886719</td>\n",
              "    </tr>\n",
              "    <tr>\n",
              "      <th>75%</th>\n",
              "      <td>10317.652588</td>\n",
              "      <td>9759.850830</td>\n",
              "      <td>10132.188477</td>\n",
              "      <td>10136.416504</td>\n",
              "      <td>2.403235e+10</td>\n",
              "      <td>10136.416504</td>\n",
              "    </tr>\n",
              "    <tr>\n",
              "      <th>max</th>\n",
              "      <td>64863.097656</td>\n",
              "      <td>62208.964844</td>\n",
              "      <td>63523.753906</td>\n",
              "      <td>63503.457031</td>\n",
              "      <td>3.509679e+11</td>\n",
              "      <td>63503.457031</td>\n",
              "    </tr>\n",
              "  </tbody>\n",
              "</table>\n",
              "</div>"
            ],
            "text/plain": [
              "               High           Low  ...        Volume     Adj Close\n",
              "count   1822.000000   1822.000000  ...  1.822000e+03   1822.000000\n",
              "mean   10181.950133   9591.075708  ...  1.668504e+10   9919.159832\n",
              "std    12799.482194  11942.450560  ...  2.117508e+10  12420.532163\n",
              "min      450.298004    446.062012  ...  3.397780e+07    449.598999\n",
              "25%     3507.680176   3395.305237  ...  1.689300e+09   3464.599426\n",
              "50%     7344.426270   7005.125000  ...  7.687134e+09   7196.886719\n",
              "75%    10317.652588   9759.850830  ...  2.403235e+10  10136.416504\n",
              "max    64863.097656  62208.964844  ...  3.509679e+11  63503.457031\n",
              "\n",
              "[8 rows x 6 columns]"
            ]
          },
          "metadata": {
            "tags": []
          },
          "execution_count": 3
        }
      ]
    },
    {
      "cell_type": "markdown",
      "metadata": {
        "id": "m6dh_jA7F3m2"
      },
      "source": [
        "## Función de preparación de datos (ya estandarizados o normalizados) para análisis univariado (*candidata a exportar*)"
      ]
    },
    {
      "cell_type": "code",
      "metadata": {
        "id": "mbHdJ7DsGyCi"
      },
      "source": [
        "def univariate_data(dataset, start_index, end_index, history_size, target_size):\n",
        "  ''' \n",
        "      dataset: Array containing the whole time series (stadarized or not)\n",
        "      start_index: index from where data start to analize\n",
        "      end_index: final index to take data. None is to take all data\n",
        "      history_size: window size to create sequence (and then used to predict)\n",
        "      target_size: size of data to predict\n",
        "  '''\n",
        "  hist = [] #hist = history\n",
        "  targets = [] \n",
        "\n",
        "  start_index = start_index + history_size\n",
        "  if end_index is None:\n",
        "    end_index = len(dataset) - target_size\n",
        "\n",
        "  for i in range(start_index, end_index):\n",
        "    #window = window of time\n",
        "    window = range(i-history_size,i) #it balances the start_index = start_index + history_size made above\n",
        "    #print(window,i)\n",
        "    #print(window)\n",
        "    #Reshape hist from (history_size,) to (history_size,1)\n",
        "    hist.append(np.reshape(dataset[window], (history_size, 1))) #len(dataset[window]) = history_size\n",
        "    #print(hist)\n",
        "    targets.append(dataset[i+target_size-1])\n",
        "  return np.array(hist), np.array(targets)"
      ],
      "execution_count": 5,
      "outputs": []
    },
    {
      "cell_type": "markdown",
      "metadata": {
        "id": "1VWdI1hidlrH"
      },
      "source": [
        "Mirando como trabaja la función univariate_data haciendo una prueba:"
      ]
    },
    {
      "cell_type": "code",
      "metadata": {
        "id": "PJ4vJqGA2oFW"
      },
      "source": [
        "test = np.arange(0,10)\n",
        "#print(type(test))\n",
        "#print(test)\n",
        "#print(test[range(0,4)]) #equivalent to dataset[window]\n",
        "#print(np.reshape(test[range(0,4)], (4,1)))\n",
        "#print(test.shape[])\n",
        "#x,y = univariate_data(dataset=test, start_index=0, end_index=8, history_size=4,target_size=1)\n",
        "#print(x)\n",
        "#print(y)\n",
        "#a = range(-5,5)"
      ],
      "execution_count": null,
      "outputs": []
    },
    {
      "cell_type": "markdown",
      "metadata": {
        "id": "TYz_7K_3WXZW"
      },
      "source": [
        "### Seleccionando los datos de la serie de tiempo a analizar"
      ]
    },
    {
      "cell_type": "code",
      "metadata": {
        "colab": {
          "base_uri": "https://localhost:8080/",
          "height": 466
        },
        "id": "7P6GdxixWYJo",
        "outputId": "372bdbb8-817d-47ca-ad2f-3025424dbe20"
      },
      "source": [
        "#Extrating data from data frame:\n",
        "uni_data = btc_usd['Adj Close']\n",
        "print(uni_data.tail(3))\n",
        "\n",
        "#-----Indexing (If index is not 'Date'): I THINK IT IS NOT NECCESARY\n",
        "#print(uni_data.index)\n",
        "uni_data.index = pd.to_datetime(uni_data.index,format='%Y-%m-%d')\n",
        "#print(uni_data.index)\n",
        "#uni_data.index = btc_usd['Date']\n",
        "#print(uni_data.head())\n",
        "\n",
        "#Hiperparameter\n",
        "TRAIN_SPLIT = int(len(btc_usd)*0.8)\n",
        "\n",
        "#Plotting\n",
        "plt.figure(figsize=(11,5))\n",
        "plt.plot(uni_data[:TRAIN_SPLIT], label=\"Training set (80%): \"+str(TRAIN_SPLIT)+\" points.\")\n",
        "plt.plot(uni_data[TRAIN_SPLIT:], label=\"Validation set (20%): \"+str(len(btc_usd)-TRAIN_SPLIT)+\" points.\")\n",
        "plt.title(\"Ajusted Close Price\", size=25)\n",
        "plt.xlabel(\"Year\", size=15)\n",
        "plt.ylabel(\"USD\", size=15)\n",
        "plt.legend()\n",
        "plt.show()\n",
        "\n",
        "#Extracting data as array\n",
        "uni_data = uni_data.values\n",
        "print(type(uni_data))"
      ],
      "execution_count": 8,
      "outputs": [
        {
          "output_type": "stream",
          "text": [
            "Date\n",
            "2021-05-21    37536.632812\n",
            "2021-05-22    34770.582031\n",
            "2021-05-24    38410.621094\n",
            "Name: Adj Close, dtype: float64\n"
          ],
          "name": "stdout"
        },
        {
          "output_type": "display_data",
          "data": {
            "image/png": "[encoded data removed]",
            "text/plain": [
              "<Figure size 792x360 with 1 Axes>"
            ]
          },
          "metadata": {
            "tags": [],
            "needs_background": "light"
          }
        },
        {
          "output_type": "stream",
          "text": [
            "<class 'numpy.ndarray'>\n"
          ],
          "name": "stdout"
        }
      ]
    },
    {
      "cell_type": "markdown",
      "metadata": {
        "id": "LiVzkyqGLpjA"
      },
      "source": [
        "## (Hiper)Parámetros para la red LSTM"
      ]
    },
    {
      "cell_type": "code",
      "metadata": {
        "id": "9WTwkSFEVfvL"
      },
      "source": [
        "#Data load params\n",
        "BATCH_SIZE = 256\n",
        "BUFFER_SIZE = 10000\n",
        "#TRAIN_SPLIT = int(len(btc_usd)*0.8) #Put before\n",
        "#print(TRAIN_SPLIT)\n",
        "#print(type(TRAIN_SPLIT))\n",
        "#print(2424*0.8)\n",
        "\n",
        "#LSTM params\n",
        "EVALUATION_INTERVAL = 200 #FOR WHAT?\n",
        "EPOCHS = 120\n",
        "PATIENCE = 5 #FOR WHAT?\n",
        "\n",
        "#Seeding for reproducibility\n",
        "SEED = 13\n",
        "tf.random.set_seed(SEED)\n"
      ],
      "execution_count": 9,
      "outputs": []
    },
    {
      "cell_type": "markdown",
      "metadata": {
        "id": "SLl68JouX6vV"
      },
      "source": [
        "## Estandarización (Crear una función *Candidata a exportar*).\n",
        "Nota: se hace con los datos de entrenamiento."
      ]
    },
    {
      "cell_type": "code",
      "metadata": {
        "id": "IZnyvDXDX8Tg"
      },
      "source": [
        "uni_train_mean = uni_data[:TRAIN_SPLIT].mean()\n",
        "uni_train_std = uni_data[:TRAIN_SPLIT].std ()\n",
        "#print(uni_train_mean)\n",
        "uni_data = (uni_data - uni_train_mean)/uni_train_std"
      ],
      "execution_count": 10,
      "outputs": []
    },
    {
      "cell_type": "markdown",
      "metadata": {
        "id": "NnS-mt_ze0DN"
      },
      "source": [
        "## Creando los datos (entrenamiento y validación) para la predicción a 1 paso"
      ]
    },
    {
      "cell_type": "code",
      "metadata": {
        "colab": {
          "base_uri": "https://localhost:8080/"
        },
        "id": "P0DfWjDBe0ej",
        "outputId": "bf44013b-f8f2-481f-d3c2-7f6c8fe14420"
      },
      "source": [
        "#Defining history and target size\n",
        "uni_past_history = 20\n",
        "uni_future_target = 1 #I DONT KNOW WHY 0 AND NOT 1\n",
        "\n",
        "#Creating training data\n",
        "x_train_uni, y_train_uni = univariate_data(dataset = uni_data, start_index = 0, \n",
        "                                           end_index = TRAIN_SPLIT, history_size=uni_past_history,\n",
        "                                           target_size = uni_future_target)\n",
        "\n",
        "#Creating validation (for prediction) data\n",
        "x_val_uni, y_val_uni = univariate_data(dataset = uni_data, start_index = TRAIN_SPLIT,\n",
        "                                       end_index = None, history_size = uni_past_history,\n",
        "                                       target_size = uni_future_target)\n",
        "\n",
        "#Checking shape\n",
        "print(uni_data.shape)\n",
        "print(x_train_uni.shape)\n",
        "print(y_train_uni.shape)"
      ],
      "execution_count": 11,
      "outputs": [
        {
          "output_type": "stream",
          "text": [
            "(1822,)\n",
            "(1437, 20, 1)\n",
            "(1437,)\n"
          ],
          "name": "stdout"
        }
      ]
    },
    {
      "cell_type": "markdown",
      "metadata": {
        "id": "Gu7IGOF6inFV"
      },
      "source": [
        "## Modificando el formato de los datos usando TensorFlow para el uso de RNN-LSTM"
      ]
    },
    {
      "cell_type": "code",
      "metadata": {
        "id": "O20pINSGis68",
        "colab": {
          "base_uri": "https://localhost:8080/"
        },
        "outputId": "dd017d8a-0c64-48e8-cec7-3f861f2c6b40"
      },
      "source": [
        "#Train data\n",
        "train_univariate = tf.data.Dataset.from_tensor_slices((x_train_uni, y_train_uni))\n",
        "train_univariate = train_univariate.cache().shuffle(BUFFER_SIZE).batch(BATCH_SIZE).repeat()\n",
        "#Validation data\n",
        "val_univariate = tf.data.Dataset.from_tensor_slices((x_val_uni,y_val_uni))\n",
        "val_univariate = val_univariate.batch(BATCH_SIZE).repeat()\n",
        "\n",
        "print(train_univariate)\n",
        "print(val_univariate)\n",
        "print(val_univariate.take(1))"
      ],
      "execution_count": 12,
      "outputs": [
        {
          "output_type": "stream",
          "text": [
            "<RepeatDataset shapes: ((None, 20, 1), (None,)), types: (tf.float64, tf.float64)>\n",
            "<RepeatDataset shapes: ((None, 20, 1), (None,)), types: (tf.float64, tf.float64)>\n",
            "<TakeDataset shapes: ((None, 20, 1), (None,)), types: (tf.float64, tf.float64)>\n"
          ],
          "name": "stdout"
        }
      ]
    },
    {
      "cell_type": "markdown",
      "metadata": {
        "id": "--_69SNigRSA"
      },
      "source": [
        "## Creando los modelos RNN-LSTM (*Crear una función a exportar con el modelo a crear y compilándolo*)"
      ]
    },
    {
      "cell_type": "code",
      "metadata": {
        "id": "zOAUfTjWeoVj"
      },
      "source": [
        "#8 neurons model\n",
        "U8 = 8\n",
        "simple_lstm_model_8U = tf.keras.models.Sequential([\n",
        "    tf.keras.layers.LSTM(units=U8, input_shape=x_train_uni.shape[-2:]),\n",
        "    tf.keras.layers.Dense(1)                                                \n",
        "])\n",
        "simple_lstm_model_8U.compile(optimizer='adam', loss='mae')"
      ],
      "execution_count": 17,
      "outputs": []
    },
    {
      "cell_type": "code",
      "metadata": {
        "colab": {
          "base_uri": "https://localhost:8080/"
        },
        "id": "2EAaOeXij6nm",
        "outputId": "19edce55-8d69-4a20-d33b-4c9026d9eef8"
      },
      "source": [
        "#Checking prediction shape\n",
        "for x,y in val_univariate.take(1):\n",
        "  print(simple_lstm_model_8U.predict(x).shape)\n",
        "  #print(simple_lstm_model.predict(x))"
      ],
      "execution_count": 14,
      "outputs": [
        {
          "output_type": "stream",
          "text": [
            "(256, 1)\n"
          ],
          "name": "stdout"
        }
      ]
    },
    {
      "cell_type": "code",
      "metadata": {
        "id": "zycLM4gnb5ZQ"
      },
      "source": [
        "#128 neurons model\n",
        "U128 = 128\n",
        "simple_lstm_model_128U = tf.keras.models.Sequential([\n",
        "    tf.keras.layers.LSTM(units=U128, input_shape=x_train_uni.shape[-2:]),\n",
        "    tf.keras.layers.Dense(1)                                                \n",
        "])\n",
        "simple_lstm_model_128U.compile(optimizer='adam', loss='mae')"
      ],
      "execution_count": 16,
      "outputs": []
    },
    {
      "cell_type": "code",
      "metadata": {
        "id": "9Y4wl887b-5S"
      },
      "source": [
        "#512 neurons model\n",
        "U1024 = 1024\n",
        "simple_lstm_model_1024U = tf.keras.models.Sequential([\n",
        "    tf.keras.layers.LSTM(units=U1024, input_shape=x_train_uni.shape[-2:]),\n",
        "    tf.keras.layers.Dense(1)                                                \n",
        "])\n",
        "simple_lstm_model_1024U.compile(optimizer='adam', loss='mae')"
      ],
      "execution_count": 35,
      "outputs": []
    },
    {
      "cell_type": "markdown",
      "metadata": {
        "id": "Wvyi3sOmrTbI"
      },
      "source": [
        "## Entrenamiento de la red"
      ]
    },
    {
      "cell_type": "code",
      "metadata": {
        "colab": {
          "base_uri": "https://localhost:8080/"
        },
        "id": "5qQ84fMJrXF_",
        "outputId": "b0bb3163-1739-4051-dd44-d0f69fb90219"
      },
      "source": [
        "%%time\n",
        "#8 neurons model\n",
        "#To Stop training when a monitored metric has stopped improving.\n",
        "#Patience: Number of epochs with no improvement after which training will be stopped.\n",
        "P = 3\n",
        "early_stopping = EarlyStopping(monitor='val_loss', patience=P, restore_best_weights=True)\n",
        "simple_lstm_model_8U.fit(train_univariate,\n",
        "                      epochs=EPOCHS,\n",
        "                      steps_per_epoch=EVALUATION_INTERVAL,\n",
        "                      validation_data=val_univariate,\n",
        "                      callbacks=[early_stopping],\n",
        "                      validation_steps=50)\n",
        "#what steps_per_epoch mean?, what callbacks?, whats validation_step ?"
      ],
      "execution_count": 19,
      "outputs": [
        {
          "output_type": "stream",
          "text": [
            "Epoch 1/120\n",
            "200/200 [==============================] - 3s 6ms/step - loss: 0.3511 - val_loss: 4.3395\n",
            "Epoch 2/120\n",
            "200/200 [==============================] - 1s 4ms/step - loss: 0.0895 - val_loss: 3.8648\n",
            "Epoch 3/120\n",
            "200/200 [==============================] - 1s 4ms/step - loss: 0.0737 - val_loss: 3.6487\n",
            "Epoch 4/120\n",
            "200/200 [==============================] - 1s 4ms/step - loss: 0.0661 - val_loss: 3.5002\n",
            "Epoch 5/120\n",
            "200/200 [==============================] - 1s 4ms/step - loss: 0.0611 - val_loss: 3.4099\n",
            "Epoch 6/120\n",
            "200/200 [==============================] - 1s 4ms/step - loss: 0.0572 - val_loss: 3.3305\n",
            "Epoch 7/120\n",
            "200/200 [==============================] - 1s 4ms/step - loss: 0.0547 - val_loss: 3.2672\n",
            "Epoch 8/120\n",
            "200/200 [==============================] - 1s 4ms/step - loss: 0.0526 - val_loss: 3.2353\n",
            "Epoch 9/120\n",
            "200/200 [==============================] - 1s 4ms/step - loss: 0.0516 - val_loss: 3.2067\n",
            "Epoch 10/120\n",
            "200/200 [==============================] - 1s 4ms/step - loss: 0.0504 - val_loss: 3.1731\n",
            "Epoch 11/120\n",
            "200/200 [==============================] - 1s 4ms/step - loss: 0.0497 - val_loss: 3.1461\n",
            "Epoch 12/120\n",
            "200/200 [==============================] - 1s 4ms/step - loss: 0.0487 - val_loss: 3.1225\n",
            "Epoch 13/120\n",
            "200/200 [==============================] - 1s 4ms/step - loss: 0.0482 - val_loss: 3.1036\n",
            "Epoch 14/120\n",
            "200/200 [==============================] - 1s 4ms/step - loss: 0.0478 - val_loss: 3.0946\n",
            "Epoch 15/120\n",
            "200/200 [==============================] - 1s 4ms/step - loss: 0.0477 - val_loss: 3.0929\n",
            "Epoch 16/120\n",
            "200/200 [==============================] - 1s 4ms/step - loss: 0.0475 - val_loss: 3.0924\n",
            "Epoch 17/120\n",
            "200/200 [==============================] - 1s 4ms/step - loss: 0.0475 - val_loss: 3.0966\n",
            "Epoch 18/120\n",
            "200/200 [==============================] - 1s 4ms/step - loss: 0.0475 - val_loss: 3.0945\n",
            "Epoch 19/120\n",
            "200/200 [==============================] - 1s 4ms/step - loss: 0.0473 - val_loss: 3.1018\n",
            "CPU times: user 19.8 s, sys: 1.52 s, total: 21.3 s\n",
            "Wall time: 16.9 s\n"
          ],
          "name": "stdout"
        }
      ]
    },
    {
      "cell_type": "code",
      "metadata": {
        "colab": {
          "base_uri": "https://localhost:8080/"
        },
        "id": "HZm1HvoHc2n3",
        "outputId": "f22ffec8-7659-45c6-91f4-76f9290b909c"
      },
      "source": [
        "%%time\n",
        "#128 neurons model\n",
        "simple_lstm_model_128U.fit(train_univariate,\n",
        "                      epochs=EPOCHS,\n",
        "                      steps_per_epoch=EVALUATION_INTERVAL,\n",
        "                      validation_data=val_univariate,\n",
        "                      callbacks=[early_stopping],\n",
        "                      validation_steps=50)"
      ],
      "execution_count": 20,
      "outputs": [
        {
          "output_type": "stream",
          "text": [
            "Epoch 1/120\n",
            "200/200 [==============================] - 3s 7ms/step - loss: 0.1974 - val_loss: 2.0047\n",
            "Epoch 2/120\n",
            "200/200 [==============================] - 1s 4ms/step - loss: 0.0647 - val_loss: 1.7240\n",
            "Epoch 3/120\n",
            "200/200 [==============================] - 1s 5ms/step - loss: 0.0534 - val_loss: 1.6251\n",
            "Epoch 4/120\n",
            "200/200 [==============================] - 1s 5ms/step - loss: 0.0505 - val_loss: 1.5734\n",
            "Epoch 5/120\n",
            "200/200 [==============================] - 1s 5ms/step - loss: 0.0482 - val_loss: 1.5693\n",
            "Epoch 6/120\n",
            "200/200 [==============================] - 1s 4ms/step - loss: 0.0485 - val_loss: 1.6109\n",
            "Epoch 7/120\n",
            "200/200 [==============================] - 1s 4ms/step - loss: 0.0476 - val_loss: 1.7051\n",
            "Epoch 8/120\n",
            "200/200 [==============================] - 1s 5ms/step - loss: 0.0467 - val_loss: 1.7412\n",
            "CPU times: user 10 s, sys: 747 ms, total: 10.8 s\n",
            "Wall time: 8.94 s\n"
          ],
          "name": "stdout"
        },
        {
          "output_type": "execute_result",
          "data": {
            "text/plain": [
              "<tensorflow.python.keras.callbacks.History at 0x7fb9c5bdf090>"
            ]
          },
          "metadata": {
            "tags": []
          },
          "execution_count": 20
        }
      ]
    },
    {
      "cell_type": "code",
      "metadata": {
        "colab": {
          "base_uri": "https://localhost:8080/"
        },
        "id": "Pnq382c2dXHo",
        "outputId": "79b114a3-aaaf-477b-f5c3-75946de05586"
      },
      "source": [
        "%%time\n",
        "#1024 neurons model \n",
        "simple_lstm_model_1024U.fit(train_univariate,\n",
        "                      epochs=EPOCHS,\n",
        "                      steps_per_epoch=EVALUATION_INTERVAL,\n",
        "                      validation_data=val_univariate,\n",
        "                      callbacks=[early_stopping],\n",
        "                      validation_steps=50)"
      ],
      "execution_count": 36,
      "outputs": [
        {
          "output_type": "stream",
          "text": [
            "Epoch 1/120\n",
            "200/200 [==============================] - 9s 41ms/step - loss: 0.1853 - val_loss: 1.0115\n",
            "Epoch 2/120\n",
            "200/200 [==============================] - 8s 40ms/step - loss: 0.0642 - val_loss: 0.8080\n",
            "Epoch 3/120\n",
            "200/200 [==============================] - 8s 41ms/step - loss: 0.0530 - val_loss: 1.1282\n",
            "Epoch 4/120\n",
            "200/200 [==============================] - 8s 42ms/step - loss: 0.0507 - val_loss: 1.3224\n",
            "Epoch 5/120\n",
            "200/200 [==============================] - 8s 41ms/step - loss: 0.0514 - val_loss: 0.8249\n",
            "CPU times: user 30.1 s, sys: 915 ms, total: 31 s\n",
            "Wall time: 42.4 s\n"
          ],
          "name": "stdout"
        },
        {
          "output_type": "execute_result",
          "data": {
            "text/plain": [
              "<tensorflow.python.keras.callbacks.History at 0x7fb99c539450>"
            ]
          },
          "metadata": {
            "tags": []
          },
          "execution_count": 36
        }
      ]
    },
    {
      "cell_type": "markdown",
      "metadata": {
        "id": "CCTPhUJNNnXa"
      },
      "source": [
        "## Graficando predicciones y función RMSE"
      ]
    },
    {
      "cell_type": "code",
      "metadata": {
        "colab": {
          "base_uri": "https://localhost:8080/"
        },
        "id": "PIBQuhVozAbT",
        "outputId": "08f30493-2877-427e-c7bc-3aaba36c93cc"
      },
      "source": [
        "#understanding create_time_steps\n",
        "#print(list(range(-10,0)))\n",
        "#---- Enumerate\n",
        "a = [[[1,2,3,4,5]],[[10]],[[20,30,40]]]\n",
        "print(a)\n",
        "#print(type(a))\n",
        "#print(a[0].flatten()) #error, because a[0] is not a column\n",
        "#print(enumerate(a))\n",
        "#enumerate is like a vector of couples like: (index, data)\n",
        "for i,x in enumerate(a):\n",
        "  print(i)\n",
        "  print(x)\n",
        "  print(\"end\")\n",
        "#----- numbers, boolean, conditional values and if\n",
        "print(1==True)\n",
        "print(0==False)\n",
        "print(2==False)\n",
        "if 3:\n",
        "  print(\"a\")"
      ],
      "execution_count": null,
      "outputs": [
        {
          "output_type": "stream",
          "text": [
            "[[[1, 2, 3, 4, 5]], [[10]], [[20, 30, 40]]]\n",
            "0\n",
            "[[1, 2, 3, 4, 5]]\n",
            "end\n",
            "1\n",
            "[[10]]\n",
            "end\n",
            "2\n",
            "[[20, 30, 40]]\n",
            "end\n",
            "True\n",
            "True\n",
            "False\n",
            "a\n"
          ],
          "name": "stdout"
        }
      ]
    },
    {
      "cell_type": "markdown",
      "metadata": {
        "id": "YW9XHycVN4jQ"
      },
      "source": [
        "Definiendo funciones (*candidatas a exportar*)"
      ]
    },
    {
      "cell_type": "code",
      "metadata": {
        "id": "-XNJ5uhqNmoA"
      },
      "source": [
        "def create_time_steps(length):\n",
        "  return list(range(-length,0))"
      ],
      "execution_count": 22,
      "outputs": []
    },
    {
      "cell_type": "code",
      "metadata": {
        "colab": {
          "base_uri": "https://localhost:8080/",
          "height": 421
        },
        "id": "YdY2DnGUPFaJ",
        "outputId": "2b9f2dce-6a2d-4057-d366-944ec7bd7520"
      },
      "source": [
        "def show_plot(plot_data, delta, title):\n",
        "  #This function plots 3 things: History, true future and prediction\n",
        "  '''\n",
        "      plot_data (list): [x,y,z]: data to plot in function of time (time_steps).\n",
        "      delta: (0 = False & 1 = True) I think related with 'univariate_future_target' \n",
        "      title (str): plot title.\n",
        "  '''\n",
        "  #print(type(plot_data))\n",
        "  #print(plot_data[0])\n",
        "  #print(plot_data[0].flatten())\n",
        "  labels = ['History', 'True Future', 'Model Prediction']\n",
        "  marker = ['.-', 'rx', 'go']\n",
        "  time_steps = create_time_steps(plot_data[0].shape[0])\n",
        "  #print(plot_data[0].shape[0])\n",
        "  #print(plot_data[0].shape)\n",
        "  if delta:\n",
        "    future = delta\n",
        "  else:\n",
        "    future = 0\n",
        "  plt.title(title)\n",
        "  for i,x in enumerate(plot_data): #enumerate(plot_data) = (0,x_train),(1,y_train)\n",
        "    #Note: i = 0 is false, the rest (i.e. i=300) is true\n",
        "    if i: #(i = 1)\n",
        "      plt.plot(future, plot_data[i], marker[i],markersize=10, label=labels[i]) #Plotting true future\n",
        "    else: #(i=0)\n",
        "      plt.plot(time_steps,plot_data[i].flatten(),marker[i], label=labels[i]) #Plotting History\n",
        "    plt.legend()\n",
        "    plt.xlim([time_steps[0], (future+4)*2])\n",
        "    plt.xlabel('Time-Step')\n",
        "  \n",
        "  return plt\n",
        "\n",
        "#Testing function\n",
        "show_plot([x_train_uni[0], y_train_uni[0]], 0, 'Sample Example')"
      ],
      "execution_count": 23,
      "outputs": [
        {
          "output_type": "execute_result",
          "data": {
            "text/plain": [
              "<module 'matplotlib.pyplot' from '/usr/local/lib/python3.7/dist-packages/matplotlib/pyplot.py'>"
            ]
          },
          "metadata": {
            "tags": []
          },
          "execution_count": 23
        },
        {
          "output_type": "display_data",
          "data": {
            "image/png": "[encoded data removed]",
            "text/plain": [
              "<Figure size 576x432 with 1 Axes>"
            ]
          },
          "metadata": {
            "tags": [],
            "needs_background": "light"
          }
        }
      ]
    },
    {
      "cell_type": "markdown",
      "metadata": {
        "id": "nzl4aRh87Eg1"
      },
      "source": [
        "### 2 gráficas de una predicción"
      ]
    },
    {
      "cell_type": "code",
      "metadata": {
        "colab": {
          "base_uri": "https://localhost:8080/",
          "height": 791
        },
        "id": "imLPjbXUlMK7",
        "outputId": "50dcd6f3-3443-49fb-cb6e-f759bd202fd3"
      },
      "source": [
        "#print(val_univariate.take(1))\n",
        "#val_univariate.take(k) is like a vector of k first components containing (x_val,y_val) \n",
        "for x,y in val_univariate.take(2):\n",
        "  plot = show_plot(plot_data=[x[0].numpy(),y[0].numpy(),simple_lstm_model_8U.predict(x)[0]], delta=0, title='Simple LSTM Model')\n",
        "  plot.show()"
      ],
      "execution_count": 24,
      "outputs": [
        {
          "output_type": "display_data",
          "data": {
            "image/png": "[encoded data removed]",
            "text/plain": [
              "<Figure size 576x432 with 1 Axes>"
            ]
          },
          "metadata": {
            "tags": [],
            "needs_background": "light"
          }
        },
        {
          "output_type": "display_data",
          "data": {
            "image/png": "[encoded data removed]",
            "text/plain": [
              "<Figure size 576x432 with 1 Axes>"
            ]
          },
          "metadata": {
            "tags": [],
            "needs_background": "light"
          }
        }
      ]
    },
    {
      "cell_type": "markdown",
      "metadata": {
        "id": "cjQ8zZKRV4nY"
      },
      "source": [
        "### Función RMSE: para medir que tan buena es la predicción y comparar los resultados de distintos modelos"
      ]
    },
    {
      "cell_type": "code",
      "metadata": {
        "id": "Cqbg4MnsWCyD"
      },
      "source": [
        ""
      ],
      "execution_count": null,
      "outputs": []
    },
    {
      "cell_type": "markdown",
      "metadata": {
        "id": "y4TtzfijWEPK"
      },
      "source": [
        "### Gráfica comparativa"
      ]
    },
    {
      "cell_type": "code",
      "metadata": {
        "colab": {
          "base_uri": "https://localhost:8080/",
          "height": 341
        },
        "id": "MVqoQ16QWWez",
        "outputId": "2fc5c4dd-2ef5-4e3a-969d-0f0f6fbdcd99"
      },
      "source": [
        "#x_val_uni, y_val_unifor x,y in val_univariate.take(2):\n",
        "predictions8U = simple_lstm_model_8U.predict(x_val_uni)\n",
        "predictions128U = simple_lstm_model_128U.predict(x_val_uni)\n",
        "predictions512U = simple_lstm_model_1024U.predict(x_val_uni)\n",
        "#plot = show_plot(plot_data=[x[0].numpy(),y[0].numpy(),simple_lstm_model.predict(x)[0]], delta=0, title='Simple LSTM Model')\n",
        "#plot.show()\n",
        "\n",
        "\n",
        "RMSE_8U = 145.6\n",
        "RMSE_128U = 45.6\n",
        "RMSE_512U = 5.6\n",
        "T_8U = 16.9\n",
        "T_128U = 10.8\n",
        "T_512U = 24\n",
        "\n",
        "\n",
        "plt.figure(figsize=(11,5))\n",
        "plt.plot(y_val_uni, label=\"Data\")\n",
        "plt.plot(predictions8U, label=str(U8)+\" neurons. RMSE = \"+str(RMSE_8U)+\". Time (s)= \"+str(T_8U))\n",
        "plt.plot(predictions128U, label=str(U128)+\" neurons. RMSE = \"+str(RMSE_128U)+\". Time (s)= \"+str(T_128U))\n",
        "plt.plot(predictions512U, label=str(U1024)+\" neurons. RMSE = \"+str(RMSE_512U)+\". Time (s)= \"+str(T_512U))\n",
        "plt.title(\"Adjusted Close Price and LSTM Predictions\", size=20)\n",
        "plt.legend()\n",
        "plt.show()\n",
        "# BEst prediction with 512 neurons\n",
        "#Include the rms (and place # of neurons and time of training, and GPU)\n",
        "#NOTE: Destadarization NOT DONE"
      ],
      "execution_count": 37,
      "outputs": [
        {
          "output_type": "display_data",
          "data": {
            "image/png": "[encoded data removed]",
            "text/plain": [
              "<Figure size 792x360 with 1 Axes>"
            ]
          },
          "metadata": {
            "tags": [],
            "needs_background": "light"
          }
        }
      ]
    },
    {
      "cell_type": "code",
      "metadata": {
        "colab": {
          "base_uri": "https://localhost:8080/"
        },
        "id": "nOVW1mjHKYxt",
        "outputId": "2725dac3-e028-407d-843d-fe938e2577d3"
      },
      "source": [
        "#Understanding batches and univariate data in tensorflow format (MOVE THIS CELL)\n",
        "#TRAIN_SPLIT = int(len(btc_usd)*0.8)\n",
        "VAL_SPLIT = len(btc_usd) - TRAIN_SPLIT\n",
        "print(TRAIN_SPLIT,VAL_SPLIT,89+256+20)\n",
        "#print(type(VAL_SPLIT))\n",
        "for x,y in val_univariate.take(2): #x and y are the 2 batches of data\n",
        "  print(len(x))\n",
        "  #print(x)\n",
        "  print(x[0])\n",
        "  print(x[1])\n",
        "  print(\"YYYYYYYYY\")\n",
        "  print(y)"
      ],
      "execution_count": null,
      "outputs": [
        {
          "output_type": "stream",
          "text": [
            "1456 365 365\n",
            "256\n",
            "tf.Tensor(\n",
            "[[0.90879959]\n",
            " [0.93546359]\n",
            " [0.94252793]\n",
            " [0.83173084]\n",
            " [0.86256072]\n",
            " [0.84354917]\n",
            " [0.93505111]\n",
            " [1.02622736]\n",
            " [1.00331597]\n",
            " [1.07242284]\n",
            " [1.0091173 ]\n",
            " [1.19589809]\n",
            " [1.02729924]\n",
            " [1.0608659 ]\n",
            " [1.09893007]\n",
            " [1.06319743]\n",
            " [1.06006238]\n",
            " [1.08787885]\n",
            " [1.09122105]\n",
            " [1.09762444]], shape=(20, 1), dtype=float64)\n",
            "tf.Tensor(\n",
            "[[0.93546359]\n",
            " [0.94252793]\n",
            " [0.83173084]\n",
            " [0.86256072]\n",
            " [0.84354917]\n",
            " [0.93505111]\n",
            " [1.02622736]\n",
            " [1.00331597]\n",
            " [1.07242284]\n",
            " [1.0091173 ]\n",
            " [1.19589809]\n",
            " [1.02729924]\n",
            " [1.0608659 ]\n",
            " [1.09893007]\n",
            " [1.06319743]\n",
            " [1.06006238]\n",
            " [1.08787885]\n",
            " [1.09122105]\n",
            " [1.09762444]\n",
            " [1.11730055]], shape=(20, 1), dtype=float64)\n",
            "YYYYYYYYY\n",
            "tf.Tensor(\n",
            "[ 1.09762444  1.11730055  0.97228076  1.01435015  1.01287793  0.98947399\n",
            "  1.0063782   1.02947348  1.0141944   0.99610002  0.96335109  0.97507359\n",
            "  0.96748003  1.05875003  1.05370909  0.9701197   0.95721373  0.93026407\n",
            "  0.89918004  0.92515003  0.93765281  0.92367187  0.94756319  0.91981491\n",
            "  0.91026535  0.92221592  0.90673151  0.98648176  0.95389814  1.00046193\n",
            "  0.96069283  0.96091495  0.95074267  0.96030463  0.95160689  0.951501\n",
            "  0.93817713  0.92214696  0.92721579  0.92923842  0.93632058  0.93061146\n",
            "  0.98632653  1.02612482  1.04085892  1.02917413  1.06626017  1.12657658\n",
            "  1.41372777  1.3930849   1.44271375  1.44555592  1.50169328  1.61704135\n",
            "  1.43032178  1.48129681  1.47059686  1.61371671  1.6223788   1.57522121\n",
            "  1.61557429  1.59486349  1.64838754  1.52471883  1.57084716  1.62353307\n",
            "  1.61949531  1.64510448  1.65227343  1.74791025  1.67830644  1.61669499\n",
            "  1.6484565   1.57284525  1.59647312  1.59198284  1.62100937  1.51297825\n",
            "  1.54530566  1.50167495  1.55962392  1.55019912  1.60432316  1.59620734\n",
            "  1.67281712  1.52564685  1.21653528  1.28702449  1.19650609  1.22580666\n",
            "  1.24940173  1.18644229  1.21575526  1.24770247  1.25769369  1.26860518\n",
            "  1.23728638  1.33172863  1.36243866  1.40950456  1.40265046  1.4014856\n",
            "  1.44109483  1.39981553  1.27391835  1.29407204  1.21139568  1.3488436\n",
            "  1.33740237  1.3511945   1.35648133  1.34243737  1.37615977  1.35997024\n",
            "  1.31651877  1.3064245   1.30122187  1.33267834  1.36430322  1.31607814\n",
            "  1.3312787   1.39594256  1.49452434  1.51775135  1.52973911  1.54715343\n",
            "  1.50133789  1.5108536   1.54398221  1.61239817  1.65849705  1.89847722\n",
            "  1.93608732  1.92700164  1.97368916  1.95335338  1.96501028  2.1181384\n",
            "  2.01685883  2.06092114  2.08965452  2.15166864  2.14006159  2.09070367\n",
            "  2.19644717  2.24495507  2.62743546  2.62374122  2.43010582  2.60091274\n",
            "  2.56196705  2.55101398  2.65956786  2.81164683  2.82261359  2.75658005\n",
            "  2.72681224  2.92795804  3.17374108  3.21568804  3.21914854  3.43185257\n",
            "  3.43738502  3.36538459  3.3638292   3.56043125  3.46115908  3.04287916\n",
            "  3.03171248  3.19278595  3.31446689  3.69753178  3.47990485  3.58519403\n",
            "  3.64980907  3.45260159  3.57279998  3.62328738  3.58269177  3.35246262\n",
            "  3.4140268   3.33761125  3.28310444  3.48007894  3.56966648  3.59724197\n",
            "  3.6423183   4.14312323  4.53841066  4.62643041  4.81999814  4.7161786\n",
            "  4.53786051  4.79704026  4.65377396  4.78458836  5.03025156  5.49898117\n",
            "  5.4554096   5.67030595  5.74373417  6.13477696  6.1772973   6.27579928\n",
            "  7.00395245  7.17712448  6.96286403  7.49725679  8.24625611  8.91981051\n",
            "  9.29711359  9.1534826   8.65146528  7.91361353  7.47888347  8.37638089\n",
            "  8.871221    8.24652163  8.07534097  7.97302207  8.19486989  8.04668792\n",
            "  7.90861314  6.65970927  7.23629953  6.98818263  7.0468282   7.06719703\n",
            "  7.12100803  6.55572702  6.87761877  7.58293804  7.57054348  7.26502181\n",
            "  7.37684971  7.89870534  8.41756901  8.27315489  8.59535968  8.8920315\n",
            "  8.79613768 10.72502104 10.80030375 10.38693691 11.17804591 11.07106755\n",
            " 10.96544984 11.3917371  11.18749499 11.51937202 12.29936961 12.17527112\n",
            " 13.28830596 13.34421423 13.72518288 12.84375902], shape=(256,), dtype=float64)\n",
            "89\n",
            "tf.Tensor(\n",
            "[[ 8.27315489]\n",
            " [ 8.59535968]\n",
            " [ 8.8920315 ]\n",
            " [ 8.79613768]\n",
            " [10.72502104]\n",
            " [10.80030375]\n",
            " [10.38693691]\n",
            " [11.17804591]\n",
            " [11.07106755]\n",
            " [10.96544984]\n",
            " [11.3917371 ]\n",
            " [11.18749499]\n",
            " [11.51937202]\n",
            " [12.29936961]\n",
            " [12.17527112]\n",
            " [13.28830596]\n",
            " [13.34421423]\n",
            " [13.72518288]\n",
            " [12.84375902]\n",
            " [11.42007298]], shape=(20, 1), dtype=float64)\n",
            "tf.Tensor(\n",
            "[[ 8.59535968]\n",
            " [ 8.8920315 ]\n",
            " [ 8.79613768]\n",
            " [10.72502104]\n",
            " [10.80030375]\n",
            " [10.38693691]\n",
            " [11.17804591]\n",
            " [11.07106755]\n",
            " [10.96544984]\n",
            " [11.3917371 ]\n",
            " [11.18749499]\n",
            " [11.51937202]\n",
            " [12.29936961]\n",
            " [12.17527112]\n",
            " [13.28830596]\n",
            " [13.34421423]\n",
            " [13.72518288]\n",
            " [12.84375902]\n",
            " [11.42007298]\n",
            " [11.65305803]], shape=(20, 1), dtype=float64)\n",
            "YYYYYYYYY\n",
            "tf.Tensor(\n",
            "[11.42007298 11.65305803 10.96236489 10.76292068 10.72290207 10.44501374\n",
            " 11.63346249 11.30226217 11.8733489  11.35044567 11.44728274 11.44333615\n",
            " 12.0501426  12.32516087 13.00689153 13.32015451 13.79531747 13.67020857\n",
            " 14.70460196 14.19130071 13.29334871 13.53077625 14.07719681 13.80954688\n",
            " 13.93854347 13.92981345 13.72081271 12.92887617 12.98436499 12.4647399\n",
            " 12.18171481 13.08972648 13.31088726 13.30486613 13.78079154 14.0895738\n",
            " 14.08987548 14.13668283 14.21298732 13.74209535 14.04748479 14.12665106\n",
            " 13.89773555 13.33083612 13.9325399  13.91165915 14.32114035 14.43003621\n",
            " 14.34764654 15.30243251 15.19828909 15.25232738 14.79180295 14.55668551\n",
            " 13.37506993 13.24496582 13.44300187 12.76408857 12.1970848  12.02024565\n",
            " 11.74444633 11.46763453 12.79467979 13.06216855 13.0070465  12.67126008\n",
            " 13.78078534 13.80138199 13.48480263 13.63535049 12.61265842 13.69451934\n",
            " 13.42276476 13.67663882 14.05944543 13.90830352 13.28081158 13.50424113\n",
            " 11.50632348 11.65593015 11.69939634 10.8741163  10.79367926 10.02177218\n",
            "  9.8556477   8.29335481  9.29318044  8.37329491  8.43463955], shape=(89,), dtype=float64)\n"
          ],
          "name": "stdout"
        }
      ]
    },
    {
      "cell_type": "markdown",
      "metadata": {
        "id": "z_R1y9u4sWWU"
      },
      "source": [
        "Seleccionando las características (features): NO ANALIZADO AÚN"
      ]
    },
    {
      "cell_type": "code",
      "metadata": {
        "colab": {
          "base_uri": "https://localhost:8080/",
          "height": 592
        },
        "id": "6DC4Qc4-sVTf",
        "outputId": "b69fa306-3d75-4f76-e2b1-4c3c55ca2195"
      },
      "source": [
        "#Selecting features:\n",
        "features_considered = ['Open', 'High', 'Adj Close']\n",
        "features = btc_usd[features_considered]\n",
        "#print(type(features))\n",
        "print(features.head())\n",
        "print(features.index)\n",
        "\n",
        "#-----If index is not 'Date':\n",
        "#features.index = btc_usd['Date']\n",
        "#print(features.head())\n",
        "\n",
        "#Plotting\n",
        "features.plot(subplots=True)"
      ],
      "execution_count": null,
      "outputs": [
        {
          "output_type": "stream",
          "text": [
            "                  Open        High   Adj Close\n",
            "Date                                          \n",
            "2016-05-23  444.290985  447.100006  445.980988\n",
            "2016-05-24  446.062012  450.298004  449.598999\n",
            "2016-05-25  449.671997  453.644012  453.384003\n",
            "2016-05-26  453.520996  478.148987  473.463989\n",
            "2016-05-27  473.028992  533.473022  530.039978\n",
            "DatetimeIndex(['2016-05-23', '2016-05-24', '2016-05-25', '2016-05-26',\n",
            "               '2016-05-27', '2016-05-28', '2016-05-29', '2016-05-30',\n",
            "               '2016-05-31', '2016-06-01',\n",
            "               ...\n",
            "               '2021-05-13', '2021-05-14', '2021-05-15', '2021-05-16',\n",
            "               '2021-05-17', '2021-05-18', '2021-05-19', '2021-05-20',\n",
            "               '2021-05-21', '2021-05-23'],\n",
            "              dtype='datetime64[ns]', name='Date', length=1822, freq=None)\n"
          ],
          "name": "stdout"
        },
        {
          "output_type": "execute_result",
          "data": {
            "text/plain": [
              "array([<matplotlib.axes._subplots.AxesSubplot object at 0x7f8a23bfcc10>,\n",
              "       <matplotlib.axes._subplots.AxesSubplot object at 0x7f8a214095d0>,\n",
              "       <matplotlib.axes._subplots.AxesSubplot object at 0x7f8a24572450>],\n",
              "      dtype=object)"
            ]
          },
          "metadata": {
            "tags": []
          },
          "execution_count": 20
        },
        {
          "output_type": "display_data",
          "data": {
            "image/png": "[encoded data removed]",
            "text/plain": [
              "<Figure size 432x288 with 3 Axes>"
            ]
          },
          "metadata": {
            "tags": [],
            "needs_background": "light"
          }
        }
      ]
    },
    {
      "cell_type": "code",
      "metadata": {
        "colab": {
          "base_uri": "https://localhost:8080/",
          "height": 351
        },
        "id": "tELZz6RAxKzX",
        "outputId": "cb18eca3-5bfe-4798-a1f3-d03d0547d552"
      },
      "source": [
        "\n"
      ],
      "execution_count": null,
      "outputs": [
        {
          "output_type": "stream",
          "text": [
            "<class 'numpy.ndarray'>\n",
            "[[  465.86401367   468.17401123   457.33401489]\n",
            " [  456.85998535   456.85998535   424.44000244]\n",
            " [  424.10299683   427.83499146   394.79598999]\n",
            " ...\n",
            " [58877.390625   59210.8828125  58232.31640625]\n",
            " [58250.87109375 59519.35546875 55859.796875  ]\n",
            " [55665.359375   56385.7265625  55909.1640625 ]]\n"
          ],
          "name": "stdout"
        },
        {
          "output_type": "error",
          "ename": "TypeError",
          "evalue": "ignored",
          "traceback": [
            "\u001b[0;31m---------------------------------------------------------------------------\u001b[0m",
            "\u001b[0;31mTypeError\u001b[0m                                 Traceback (most recent call last)",
            "\u001b[0;32m<ipython-input-15-efb8b5172141>\u001b[0m in \u001b[0;36m<module>\u001b[0;34m()\u001b[0m\n\u001b[1;32m      9\u001b[0m \u001b[0mprint\u001b[0m\u001b[0;34m(\u001b[0m\u001b[0mtype\u001b[0m\u001b[0;34m(\u001b[0m\u001b[0mdataset_btc\u001b[0m\u001b[0;34m)\u001b[0m\u001b[0;34m)\u001b[0m\u001b[0;34m\u001b[0m\u001b[0;34m\u001b[0m\u001b[0m\n\u001b[1;32m     10\u001b[0m \u001b[0mprint\u001b[0m\u001b[0;34m(\u001b[0m\u001b[0mdataset_btc\u001b[0m\u001b[0;34m)\u001b[0m\u001b[0;34m\u001b[0m\u001b[0;34m\u001b[0m\u001b[0m\n\u001b[0;32m---> 11\u001b[0;31m \u001b[0mbtc_mean\u001b[0m \u001b[0;34m=\u001b[0m \u001b[0mdataset_btc\u001b[0m\u001b[0;34m[\u001b[0m\u001b[0;34m:\u001b[0m\u001b[0mTRAIN_SPLIT\u001b[0m\u001b[0;34m]\u001b[0m\u001b[0;34m.\u001b[0m\u001b[0mmean\u001b[0m\u001b[0;34m(\u001b[0m\u001b[0;34m)\u001b[0m\u001b[0;34m\u001b[0m\u001b[0;34m\u001b[0m\u001b[0m\n\u001b[0m\u001b[1;32m     12\u001b[0m \u001b[0mprint\u001b[0m\u001b[0;34m(\u001b[0m\u001b[0mbtc_mean\u001b[0m\u001b[0;34m)\u001b[0m\u001b[0;34m\u001b[0m\u001b[0;34m\u001b[0m\u001b[0m\n",
            "\u001b[0;31mTypeError\u001b[0m: slice indices must be integers or None or have an __index__ method"
          ]
        }
      ]
    },
    {
      "cell_type": "markdown",
      "metadata": {
        "id": "jgTKJPeHtj1P"
      },
      "source": [
        "ddd"
      ]
    },
    {
      "cell_type": "code",
      "metadata": {
        "id": "Nfi7zMzTtoLr"
      },
      "source": [
        "dataset ="
      ],
      "execution_count": null,
      "outputs": []
    },
    {
      "cell_type": "markdown",
      "metadata": {
        "id": "4UlVy1MDuOQ5"
      },
      "source": [
        "Standarized"
      ]
    },
    {
      "cell_type": "code",
      "metadata": {
        "id": "5jtionwGuQWp"
      },
      "source": [
        ""
      ],
      "execution_count": null,
      "outputs": []
    },
    {
      "cell_type": "markdown",
      "metadata": {
        "id": "z0T68Nx_2sJq"
      },
      "source": [
        "## Cosas pendientes:\n",
        "1. Uso de redes LSTM (unidimensional) para hacer predicción 1 paso y multipaso.\n",
        "2. Detección de series correlacionadas.\n",
        "3. Analizar otras series (S&P500, JPMorgan, Gold, Apple, etc.)\n",
        "4. Uso de redes LSTM (multidimensional) para hacer predicción 1 paso y multipaso."
      ]
    },
    {
      "cell_type": "markdown",
      "metadata": {
        "id": "W8f07OPfgOxI"
      },
      "source": [
        "## Bibliografía\n",
        "\n",
        "### Redes RNN-LSTM (cuaderno).\n",
        "1. [Introducción a Keras LSTM para series de tiempo multivariadas. Montenegro et.al.](https://nbviewer.jupyter.org/github/AprendizajeProfundo/Diplomado/blob/master/Temas/M%C3%B3dulo%205-%20Redes%20recurrentes/Cuadernos/rnrTimes_series_Multivariate.ipynb).\n",
        "1. A. [Notebook community: Time series forecasting (Ori. English)](https://notebook.community/tensorflow/docs-l10n/site/en-snapshot/tutorials/structured_data/time_series).\n",
        "1. B. [Keras Timeseries Multi-Step Multi-Output](https://www.kaggle.com/nicapotato/keras-timeseries-multi-step-multi-output).\n",
        "\n",
        "### Yahoo Finance (datos importados).\n",
        "2. [Yahoo Finance API – A Complete Guide](https://algotrading101.com/learn/yahoo-finance-api-guide/)\n",
        "3. [yfinance Library – A Complete Guide](https://algotrading101.com/learn/yfinance-guide/)\n",
        "4. [yfinance documentation](https://pypi.org/project/yfinance/)\n",
        "\n",
        "### Cuadernos de referencia.\n",
        "5. [Predicción de acciones usando análisis multivariado (repo)\n",
        "](https://github.com/ninja3697/Stocks-Price-Prediction-using-Multivariate-Analysis). \n",
        "6. [Serie de tiempo multivariadas para predicción de precios en Python](https://www.relataly.com/stock-market-prediction-with-multivariate-time-series-in-python/1815/). \n",
        "7. [Conversión de datos (clima)](https://machinelearningmastery.com/convert-time-series-supervised-learning-problem-python/).\n",
        "8. [Predicción en series de tiempo multivariadas (clima)](https://machinelearningmastery.com/multivariate-time-series-forecasting-lstms-keras/).\n",
        "### Libro\n",
        "9. [François Chollet - Deep Learning with Python](https://b-ok.lat/s/Deep%20Learning%20with%20Python%20Fran%C3%A7ois%20Chollet).\n",
        "### Artículo\n",
        "10. [Stock Price Prediction Using CONVOLUTIONAL Neural Networks on a Multivariate Timeseries. Article](https://www.researchgate.net/publication/338477393_Stock_Price_Prediction_Using_Convolutional_Neural_Networks_on_a_Multivariate_Timeseries). \n",
        "[]().\n"
      ]
    },
    {
      "cell_type": "markdown",
      "metadata": {
        "id": "VNK29ket7jhI"
      },
      "source": [
        "##Links sobre criptomonedas (bitcoin especialmente)\n",
        "https://unperiodico.unal.edu.co/pages/detail/criptomonedas-una-herramienta-riesgosa-pero-de-uso-inminente/\n",
        "\n",
        "https://repositorio.udesa.edu.ar/jspui/bitstream/10908/16022/1/%5BP%5D%5BW%5D%20T.%20M.%20AyPP.%20Lojo%20M%C3%A1rquez%2C%20Tamara%20In%C3%A9s.pdf  (cap2 c, cap3 ii, cap4)\n",
        "\n",
        "https://www.daviescoin.io/es/blog/que-determina-el-valor-de-las-criptomonedas\n",
        "\n",
        "https://www.tekcrispy.com/2018/05/16/que-determina-precio-criptomonedas/\n",
        "\n",
        "https://repositorio.uniagustiniana.edu.co/bitstream/handle/123456789/845/HurtadoCuellar-AngieDaniela-2019.pdf.pdf?sequence=1 (cap7)\n"
      ]
    }
  ]
}