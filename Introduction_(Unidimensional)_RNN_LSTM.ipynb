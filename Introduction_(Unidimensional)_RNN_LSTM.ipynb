{
  "nbformat": 4,
  "nbformat_minor": 0,
  "metadata": {
    "colab": {
      "name": "Introduction (Unidimensional) RNN-LSTM.ipynb",
      "provenance": []
    },
    "kernelspec": {
      "name": "python3",
      "display_name": "Python 3"
    },
    "language_info": {
      "name": "python"
    }
  },
  "cells": [
    {
      "cell_type": "markdown",
      "metadata": {
        "id": "S5ODv4lIf5e2"
      },
      "source": [
        "# Introducción a las redes RNN-LSTM"
      ]
    },
    {
      "cell_type": "markdown",
      "metadata": {
        "id": "8-b4i7Kgf1_P"
      },
      "source": [
        "## Contenido\n",
        "### 1.\n",
        "### 2."
      ]
    },
    {
      "cell_type": "markdown",
      "metadata": {
        "id": "9crszX8z13Mb"
      },
      "source": [
        "### *Importing packages:*"
      ]
    },
    {
      "cell_type": "code",
      "metadata": {
        "id": "wQ4LI39uftQY"
      },
      "source": [
        "#RNN\n",
        "import tensorflow as tf\n",
        "#Graphics\n",
        "import matplotlib as mpl\n",
        "import matplotlib.pyplot as plt\n",
        "import numpy as np\n",
        "import os\n",
        "import pandas as pd\n",
        "#Setting figure size\n",
        "mpl.rcParams['figure.figsize'] = (8,6)\n",
        "mpl.rcParams['axes.grid'] = False"
      ],
      "execution_count": null,
      "outputs": []
    },
    {
      "cell_type": "markdown",
      "metadata": {
        "id": "DJBGjtdB7DPl"
      },
      "source": [
        "### *Importing data:*"
      ]
    },
    {
      "cell_type": "code",
      "metadata": {
        "colab": {
          "base_uri": "https://localhost:8080/"
        },
        "id": "7_rERmxi7P5Z",
        "outputId": "9b4be614-27bd-40d1-cdec-86647afa07c1"
      },
      "source": [
        "#installing yfinance (Colab)\n",
        "!pip install yfinance\n",
        "#pip install yfinance --upgrade --no-cache-dir"
      ],
      "execution_count": null,
      "outputs": [
        {
          "output_type": "stream",
          "text": [
            "Collecting yfinance\n",
            "  Downloading https://files.pythonhosted.org/packages/a7/ee/315752b9ef281ba83c62aa7ec2e2074f85223da6e7e74efb4d3e11c0f510/yfinance-0.1.59.tar.gz\n",
            "Requirement already satisfied: pandas>=0.24 in /usr/local/lib/python3.7/dist-packages (from yfinance) (1.1.5)\n",
            "Requirement already satisfied: numpy>=1.15 in /usr/local/lib/python3.7/dist-packages (from yfinance) (1.19.5)\n",
            "Requirement already satisfied: requests>=2.20 in /usr/local/lib/python3.7/dist-packages (from yfinance) (2.23.0)\n",
            "Requirement already satisfied: multitasking>=0.0.7 in /usr/local/lib/python3.7/dist-packages (from yfinance) (0.0.9)\n",
            "Collecting lxml>=4.5.1\n",
            "\u001b[?25l  Downloading https://files.pythonhosted.org/packages/30/c0/d0526314971fc661b083ab135747dc68446a3022686da8c16d25fcf6ef07/lxml-4.6.3-cp37-cp37m-manylinux2014_x86_64.whl (6.3MB)\n",
            "\u001b[K     |████████████████████████████████| 6.3MB 11.0MB/s \n",
            "\u001b[?25hRequirement already satisfied: python-dateutil>=2.7.3 in /usr/local/lib/python3.7/dist-packages (from pandas>=0.24->yfinance) (2.8.1)\n",
            "Requirement already satisfied: pytz>=2017.2 in /usr/local/lib/python3.7/dist-packages (from pandas>=0.24->yfinance) (2018.9)\n",
            "Requirement already satisfied: idna<3,>=2.5 in /usr/local/lib/python3.7/dist-packages (from requests>=2.20->yfinance) (2.10)\n",
            "Requirement already satisfied: urllib3!=1.25.0,!=1.25.1,<1.26,>=1.21.1 in /usr/local/lib/python3.7/dist-packages (from requests>=2.20->yfinance) (1.24.3)\n",
            "Requirement already satisfied: certifi>=2017.4.17 in /usr/local/lib/python3.7/dist-packages (from requests>=2.20->yfinance) (2020.12.5)\n",
            "Requirement already satisfied: chardet<4,>=3.0.2 in /usr/local/lib/python3.7/dist-packages (from requests>=2.20->yfinance) (3.0.4)\n",
            "Requirement already satisfied: six>=1.5 in /usr/local/lib/python3.7/dist-packages (from python-dateutil>=2.7.3->pandas>=0.24->yfinance) (1.15.0)\n",
            "Building wheels for collected packages: yfinance\n",
            "  Building wheel for yfinance (setup.py) ... \u001b[?25l\u001b[?25hdone\n",
            "  Created wheel for yfinance: filename=yfinance-0.1.59-py2.py3-none-any.whl size=23442 sha256=9223a82d3fc7b7a5f613c374e3a9b2895423a28ee4ce7a2678fea732963fdab8\n",
            "  Stored in directory: /root/.cache/pip/wheels/f8/2a/0f/4b5a86e1d52e451757eb6bc17fd899629f0925c777741b6d04\n",
            "Successfully built yfinance\n",
            "Installing collected packages: lxml, yfinance\n",
            "  Found existing installation: lxml 4.2.6\n",
            "    Uninstalling lxml-4.2.6:\n",
            "      Successfully uninstalled lxml-4.2.6\n",
            "Successfully installed lxml-4.6.3 yfinance-0.1.59\n"
          ],
          "name": "stdout"
        }
      ]
    },
    {
      "cell_type": "code",
      "metadata": {
        "colab": {
          "base_uri": "https://localhost:8080/"
        },
        "id": "Ej4UQGdIYWrx",
        "outputId": "f958c9fd-b2d0-4133-8572-3e55fe5096ff"
      },
      "source": [
        "###THINGS: minimum interval: 1 minute\n",
        "###NOTE: testing a lot of methods\n",
        "import yfinance as yf\n",
        "btc = yf.Ticker(\"BTC-USD\")\n",
        "btc.info"
      ],
      "execution_count": null,
      "outputs": [
        {
          "output_type": "execute_result",
          "data": {
            "text/plain": [
              "{'algorithm': None,\n",
              " 'ask': None,\n",
              " 'askSize': None,\n",
              " 'averageDailyVolume10Day': 55365303178,\n",
              " 'averageVolume': 64879269668,\n",
              " 'averageVolume10days': 55365303178,\n",
              " 'beta': None,\n",
              " 'bid': None,\n",
              " 'bidSize': None,\n",
              " 'circulatingSupply': 18697632,\n",
              " 'companyOfficers': [],\n",
              " 'currency': 'USD',\n",
              " 'dayHigh': 57638.875,\n",
              " 'dayLow': 56601.504,\n",
              " 'description': 'Bitcoin (BTC) is a cryptocurrency . Users are able to generate BTC through the process of mining. Bitcoin has a current supply of 18,696,025. The last known price of Bitcoin is 57,859.16762102 USD and is up 5.88 over the last 24 hours. It is currently trading on 9548 active market(s) with $50,735,967,475.13 traded over the last 24 hours. More information can be found at https://bitcoin.org/.',\n",
              " 'dividendRate': None,\n",
              " 'dividendYield': None,\n",
              " 'exDividendDate': None,\n",
              " 'exchange': 'CCC',\n",
              " 'exchangeTimezoneName': 'Europe/London',\n",
              " 'exchangeTimezoneShortName': 'BST',\n",
              " 'expireDate': None,\n",
              " 'fiftyDayAverage': 57091.91,\n",
              " 'fiftyTwoWeekHigh': 64863.098,\n",
              " 'fiftyTwoWeekLow': 8374.323,\n",
              " 'fiveYearAvgDividendYield': None,\n",
              " 'forwardPE': None,\n",
              " 'fromCurrency': 'BTC',\n",
              " 'gmtOffSetMilliseconds': '3600000',\n",
              " 'isEsgPopulated': False,\n",
              " 'lastMarket': 'CoinMarketCap',\n",
              " 'logo_url': '',\n",
              " 'market': 'ccc_market',\n",
              " 'marketCap': 1077556150272,\n",
              " 'maxAge': 1,\n",
              " 'maxSupply': None,\n",
              " 'messageBoardId': 'finmb_BTC_CCC',\n",
              " 'name': 'Bitcoin',\n",
              " 'navPrice': None,\n",
              " 'open': 56601.504,\n",
              " 'openInterest': None,\n",
              " 'payoutRatio': None,\n",
              " 'previousClose': 56601.504,\n",
              " 'priceHint': 2,\n",
              " 'priceToSalesTrailing12Months': None,\n",
              " 'quoteType': 'CRYPTOCURRENCY',\n",
              " 'regularMarketDayHigh': 57638.875,\n",
              " 'regularMarketDayLow': 56601.504,\n",
              " 'regularMarketOpen': 56601.504,\n",
              " 'regularMarketPreviousClose': 56601.504,\n",
              " 'regularMarketPrice': 57630.625,\n",
              " 'regularMarketVolume': 40058310656,\n",
              " 'shortName': 'Bitcoin USD',\n",
              " 'startDate': 1367107200,\n",
              " 'strikePrice': None,\n",
              " 'symbol': 'BTC-USD',\n",
              " 'toCurrency': 'USD=X',\n",
              " 'totalAssets': None,\n",
              " 'tradeable': False,\n",
              " 'trailingAnnualDividendRate': None,\n",
              " 'trailingAnnualDividendYield': None,\n",
              " 'twoHundredDayAverage': 36292.883,\n",
              " 'volume': 40058310656,\n",
              " 'volume24Hr': 40058310656,\n",
              " 'volumeAllCurrencies': 40058310656,\n",
              " 'yield': None,\n",
              " 'ytdReturn': None}"
            ]
          },
          "metadata": {
            "tags": []
          },
          "execution_count": 4
        }
      ]
    },
    {
      "cell_type": "code",
      "metadata": {
        "colab": {
          "base_uri": "https://localhost:8080/",
          "height": 467
        },
        "id": "ZhUeAZCk2nur",
        "outputId": "8f2df962-d4db-4280-9d01-9b7064168ef3"
      },
      "source": [
        "###THINGS: minimum interval: 1 minute\n",
        "###NOTE: testing a lot of methods\n",
        "\n",
        "import yfinance as yf\n",
        "\n",
        "from pandas_datareader import data as pdr\n",
        "\n",
        "import yfinance as yf\n",
        "yf.pdr_override() # <== that's all it takes :-)\n",
        "\n",
        "#Uni\n",
        "data = pdr.get_data_yahoo(\"BTC-USD\")\n",
        "\n",
        "#Multiple\n",
        "#starDate=\"2017-01-01\" #year-month-day\n",
        "#endDate=\"2017-04-30\"\n",
        "#data = pdr.get_data_yahoo(\"BTC-USD ETH-USD\", start=starDate, end=endDate)\n",
        "#print(data)\n",
        "#print(data[\"Adj Close\"])\n",
        "#print(type(data[\"Adj Close\"][\"BTC-USD\"]))\n",
        "#print(data[\"Adj Close\"][\"BTC-USD\"])\n",
        "\n",
        "#Multiple Ticker objects\n",
        "tickers = yf.Tickers('msft aapl goog')\n",
        "# ^ returns a named tuple of Ticker objects\n",
        "#tickers.tickers.info\n",
        "#print(tickers.tickers.MSFT)\n",
        "# access each ticker using (example)\n",
        "#tickers.tickers[\"MSFT\"].info\n",
        "#tickers.tickers[\"AAPL\"].history(period=\"1mo\")\n",
        "#tickers.tickers.GOOG.actions\n",
        "\n",
        "btc_usd = yf.Ticker(\"BTC-USD\")\n",
        "#type(btc_usd)\n",
        "#Exploring some methods\n",
        "#btc_usd.info\n",
        "#btc_usd.actions\n",
        "#btc_usd.financials\n",
        "#btc_usd.history(period=\"max\")\n",
        "#btc_usd.calendar\n",
        "#### valid periods: 1d,5d,1mo,3mo,6mo,1y,2y,5y,10y,ytd,max\n",
        "# valid intervals: 1m,2m,5m,15m,30m,60m,90m,1h,1d,5d,1wk,1mo,3mo\n",
        "#btc_usd.history(period=\"2d\",interval=\"1m\") \n",
        "\n"
      ],
      "execution_count": null,
      "outputs": [
        {
          "output_type": "stream",
          "text": [
            "\r[*********************100%***********************]  1 of 1 completed\n"
          ],
          "name": "stdout"
        },
        {
          "output_type": "execute_result",
          "data": {
            "text/html": [
              "<div>\n",
              "<style scoped>\n",
              "    .dataframe tbody tr th:only-of-type {\n",
              "        vertical-align: middle;\n",
              "    }\n",
              "\n",
              "    .dataframe tbody tr th {\n",
              "        vertical-align: top;\n",
              "    }\n",
              "\n",
              "    .dataframe thead th {\n",
              "        text-align: right;\n",
              "    }\n",
              "</style>\n",
              "<table border=\"1\" class=\"dataframe\">\n",
              "  <thead>\n",
              "    <tr style=\"text-align: right;\">\n",
              "      <th></th>\n",
              "      <th>Open</th>\n",
              "      <th>High</th>\n",
              "      <th>Low</th>\n",
              "      <th>Close</th>\n",
              "      <th>Volume</th>\n",
              "      <th>Dividends</th>\n",
              "      <th>Stock Splits</th>\n",
              "    </tr>\n",
              "    <tr>\n",
              "      <th>Datetime</th>\n",
              "      <th></th>\n",
              "      <th></th>\n",
              "      <th></th>\n",
              "      <th></th>\n",
              "      <th></th>\n",
              "      <th></th>\n",
              "      <th></th>\n",
              "    </tr>\n",
              "  </thead>\n",
              "  <tbody>\n",
              "    <tr>\n",
              "      <th>2021-05-02 00:00:00+01:00</th>\n",
              "      <td>57673.207031</td>\n",
              "      <td>57673.207031</td>\n",
              "      <td>57673.207031</td>\n",
              "      <td>57673.207031</td>\n",
              "      <td>0</td>\n",
              "      <td>0</td>\n",
              "      <td>0</td>\n",
              "    </tr>\n",
              "    <tr>\n",
              "      <th>2021-05-02 00:01:00+01:00</th>\n",
              "      <td>57667.097656</td>\n",
              "      <td>57667.097656</td>\n",
              "      <td>57667.097656</td>\n",
              "      <td>57667.097656</td>\n",
              "      <td>0</td>\n",
              "      <td>0</td>\n",
              "      <td>0</td>\n",
              "    </tr>\n",
              "    <tr>\n",
              "      <th>2021-05-02 00:02:00+01:00</th>\n",
              "      <td>57640.250000</td>\n",
              "      <td>57640.250000</td>\n",
              "      <td>57640.250000</td>\n",
              "      <td>57640.250000</td>\n",
              "      <td>0</td>\n",
              "      <td>0</td>\n",
              "      <td>0</td>\n",
              "    </tr>\n",
              "    <tr>\n",
              "      <th>2021-05-02 00:03:00+01:00</th>\n",
              "      <td>57636.539062</td>\n",
              "      <td>57636.539062</td>\n",
              "      <td>57636.539062</td>\n",
              "      <td>57636.539062</td>\n",
              "      <td>0</td>\n",
              "      <td>0</td>\n",
              "      <td>0</td>\n",
              "    </tr>\n",
              "    <tr>\n",
              "      <th>2021-05-02 00:04:00+01:00</th>\n",
              "      <td>57624.683594</td>\n",
              "      <td>57624.683594</td>\n",
              "      <td>57624.683594</td>\n",
              "      <td>57624.683594</td>\n",
              "      <td>0</td>\n",
              "      <td>0</td>\n",
              "      <td>0</td>\n",
              "    </tr>\n",
              "    <tr>\n",
              "      <th>...</th>\n",
              "      <td>...</td>\n",
              "      <td>...</td>\n",
              "      <td>...</td>\n",
              "      <td>...</td>\n",
              "      <td>...</td>\n",
              "      <td>...</td>\n",
              "      <td>...</td>\n",
              "    </tr>\n",
              "    <tr>\n",
              "      <th>2021-05-03 02:20:00+01:00</th>\n",
              "      <td>57638.597656</td>\n",
              "      <td>57638.597656</td>\n",
              "      <td>57638.597656</td>\n",
              "      <td>57638.597656</td>\n",
              "      <td>17252352</td>\n",
              "      <td>0</td>\n",
              "      <td>0</td>\n",
              "    </tr>\n",
              "    <tr>\n",
              "      <th>2021-05-03 02:21:00+01:00</th>\n",
              "      <td>57632.597656</td>\n",
              "      <td>57632.597656</td>\n",
              "      <td>57632.597656</td>\n",
              "      <td>57632.597656</td>\n",
              "      <td>0</td>\n",
              "      <td>0</td>\n",
              "      <td>0</td>\n",
              "    </tr>\n",
              "    <tr>\n",
              "      <th>2021-05-03 02:22:00+01:00</th>\n",
              "      <td>57630.625000</td>\n",
              "      <td>57630.625000</td>\n",
              "      <td>57630.625000</td>\n",
              "      <td>57630.625000</td>\n",
              "      <td>4005888</td>\n",
              "      <td>0</td>\n",
              "      <td>0</td>\n",
              "    </tr>\n",
              "    <tr>\n",
              "      <th>2021-05-03 02:23:00+01:00</th>\n",
              "      <td>57590.648438</td>\n",
              "      <td>57590.648438</td>\n",
              "      <td>57590.648438</td>\n",
              "      <td>57590.648438</td>\n",
              "      <td>1118208</td>\n",
              "      <td>0</td>\n",
              "      <td>0</td>\n",
              "    </tr>\n",
              "    <tr>\n",
              "      <th>2021-05-03 02:24:02+01:00</th>\n",
              "      <td>57588.871094</td>\n",
              "      <td>57588.871094</td>\n",
              "      <td>57588.871094</td>\n",
              "      <td>57588.871094</td>\n",
              "      <td>0</td>\n",
              "      <td>0</td>\n",
              "      <td>0</td>\n",
              "    </tr>\n",
              "  </tbody>\n",
              "</table>\n",
              "<p>1581 rows × 7 columns</p>\n",
              "</div>"
            ],
            "text/plain": [
              "                                   Open          High  ...  Dividends  Stock Splits\n",
              "Datetime                                               ...                         \n",
              "2021-05-02 00:00:00+01:00  57673.207031  57673.207031  ...          0             0\n",
              "2021-05-02 00:01:00+01:00  57667.097656  57667.097656  ...          0             0\n",
              "2021-05-02 00:02:00+01:00  57640.250000  57640.250000  ...          0             0\n",
              "2021-05-02 00:03:00+01:00  57636.539062  57636.539062  ...          0             0\n",
              "2021-05-02 00:04:00+01:00  57624.683594  57624.683594  ...          0             0\n",
              "...                                 ...           ...  ...        ...           ...\n",
              "2021-05-03 02:20:00+01:00  57638.597656  57638.597656  ...          0             0\n",
              "2021-05-03 02:21:00+01:00  57632.597656  57632.597656  ...          0             0\n",
              "2021-05-03 02:22:00+01:00  57630.625000  57630.625000  ...          0             0\n",
              "2021-05-03 02:23:00+01:00  57590.648438  57590.648438  ...          0             0\n",
              "2021-05-03 02:24:02+01:00  57588.871094  57588.871094  ...          0             0\n",
              "\n",
              "[1581 rows x 7 columns]"
            ]
          },
          "metadata": {
            "tags": []
          },
          "execution_count": 7
        }
      ]
    },
    {
      "cell_type": "markdown",
      "metadata": {
        "id": "pM6MWmJE7hfg"
      },
      "source": [
        ""
      ]
    },
    {
      "cell_type": "code",
      "metadata": {
        "id": "PJ4vJqGA2oFW"
      },
      "source": [
        ""
      ],
      "execution_count": null,
      "outputs": []
    },
    {
      "cell_type": "markdown",
      "metadata": {
        "id": "W8f07OPfgOxI"
      },
      "source": [
        "## Bibliografía\n",
        "### Redes RNN-LSTM (cuaderno).\n",
        "1. [Introducción a Keras LSTM para series de tiempo multivariadas. Montenegro et.al.](https://nbviewer.jupyter.org/github/AprendizajeProfundo/Diplomado/blob/master/Temas/M%C3%B3dulo%205-%20Redes%20recurrentes/Cuadernos/rnrTimes_series_Multivariate.ipynb).\n",
        "### Yahoo Finance (datos importados).\n",
        "2. [Yahoo Finance API – A Complete Guide](https://algotrading101.com/learn/yahoo-finance-api-guide/)\n",
        "3. [yfinance Library – A Complete Guide](https://algotrading101.com/learn/yfinance-guide/)\n",
        "4. [yfinance documentation](https://pypi.org/project/yfinance/)\n",
        "### Cuadernos de referencia.\n",
        "5. [Predicción de acciones usando análisis multivariado (repo)\n",
        "](https://github.com/ninja3697/Stocks-Price-Prediction-using-Multivariate-Analysis). \n",
        "6. [Serie de tiempo multivariadas para predicción de precios en Python](https://www.relataly.com/stock-market-prediction-with-multivariate-time-series-in-python/1815/). \n",
        "7. [Conversión de datos (clima)](https://machinelearningmastery.com/convert-time-series-supervised-learning-problem-python/).\n",
        "8. [Predicción en series de tiempo multivariadas (clima)](https://machinelearningmastery.com/multivariate-time-series-forecasting-lstms-keras/).\n",
        "### Libro\n",
        "9. [François Chollet - Deep Learning with Python](https://b-ok.lat/s/Deep%20Learning%20with%20Python%20Fran%C3%A7ois%20Chollet).\n",
        "### Artículo\n",
        "10. [Stock Price Prediction Using CONVOLUTIONAL Neural Networks on a Multivariate Timeseries. Article](https://www.researchgate.net/publication/338477393_Stock_Price_Prediction_Using_Convolutional_Neural_Networks_on_a_Multivariate_Timeseries). \n",
        "[]().\n"
      ]
    },
    {
      "cell_type": "markdown",
      "metadata": {
        "id": "VNK29ket7jhI"
      },
      "source": [
        "##Links sobre criptomonedas (bitcoin especialmente)\n",
        "https://unperiodico.unal.edu.co/pages/detail/criptomonedas-una-herramienta-riesgosa-pero-de-uso-inminente/\n",
        "\n",
        "https://repositorio.udesa.edu.ar/jspui/bitstream/10908/16022/1/%5BP%5D%5BW%5D%20T.%20M.%20AyPP.%20Lojo%20M%C3%A1rquez%2C%20Tamara%20In%C3%A9s.pdf  (cap2 c, cap3 ii, cap4)\n",
        "\n",
        "https://www.daviescoin.io/es/blog/que-determina-el-valor-de-las-criptomonedas\n",
        "\n",
        "https://www.tekcrispy.com/2018/05/16/que-determina-precio-criptomonedas/\n",
        "\n",
        "https://repositorio.uniagustiniana.edu.co/bitstream/handle/123456789/845/HurtadoCuellar-AngieDaniela-2019.pdf.pdf?sequence=1 (cap7)\n"
      ]
    }
  ]
}